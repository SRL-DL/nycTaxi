{
 "cells": [
  {
   "cell_type": "markdown",
   "metadata": {},
   "source": [
    "# Random Forest Regressor for Kaggle New York City Taxi Fare Prediction [competition](https://www.kaggle.com/c/new-york-city-taxi-fare-prediction)"
   ]
  },
  {
   "cell_type": "markdown",
   "metadata": {},
   "source": [
    "## Imports"
   ]
  },
  {
   "cell_type": "code",
   "execution_count": 1,
   "metadata": {},
   "outputs": [],
   "source": [
    "%load_ext autoreload\n",
    "%autoreload 2\n",
    "\n",
    "%matplotlib inline"
   ]
  },
  {
   "cell_type": "code",
   "execution_count": 2,
   "metadata": {},
   "outputs": [],
   "source": [
    "import pandas as pd\n",
    "import numpy as np\n",
    "from pandas_summary import DataFrameSummary\n",
    "from sklearn.ensemble import RandomForestRegressor, RandomForestClassifier\n",
    "from sklearn import metrics\n",
    "from sklearn.tree import export_graphviz\n",
    "from sklearn.ensemble import forest\n",
    "\n",
    "import matplotlib.pyplot as plt\n",
    "import seaborn as sns\n",
    "\n",
    "import IPython\n",
    "from IPython.display import display\n",
    "import graphviz\n",
    "\n",
    "from datetime import datetime\n",
    "import math\n",
    "import re\n",
    "\n",
    "import os"
   ]
  },
  {
   "cell_type": "markdown",
   "metadata": {},
   "source": [
    "## The Data"
   ]
  },
  {
   "cell_type": "markdown",
   "metadata": {},
   "source": [
    "The training data for this competition is 55M rows, each representing a taxi trip in New York City. Our goal is to use the data to provide a fare prediction to the rider based on the pickup time, number of passengers, and the pickup and dropoff locations. \n",
    "\n",
    "**NOTE:** Due to the constraints of the problem statement, we must be careful not to pull in external data that we would not reasonably expect to have access to at the beginning of the taxi ride in training our model."
   ]
  },
  {
   "cell_type": "markdown",
   "metadata": {},
   "source": [
    "### Import the Data"
   ]
  },
  {
   "cell_type": "code",
   "execution_count": 3,
   "metadata": {},
   "outputs": [
    {
     "name": "stdout",
     "output_type": "stream",
     "text": [
      "\u001b[31mGCP-Coupons-Instructions.rtf\u001b[m\u001b[m \u001b[31mtest.csv\u001b[m\u001b[m\n",
      "\u001b[31msample_submission.csv\u001b[m\u001b[m        \u001b[31mtrain.csv\u001b[m\u001b[m\n"
     ]
    }
   ],
   "source": [
    "PATH = \"data/\" # relative path to our data\n",
    "!ls {PATH}"
   ]
  },
  {
   "cell_type": "code",
   "execution_count": 4,
   "metadata": {},
   "outputs": [
    {
     "name": "stdout",
     "output_type": "stream",
     "text": [
      "CPU times: user 39.2 s, sys: 2.5 s, total: 41.7 s\n",
      "Wall time: 42.5 s\n"
     ]
    }
   ],
   "source": [
    "n = 100 # load every nth row into df_raw\n",
    "\n",
    "%time df_raw = pd.read_csv(f'{PATH}train.csv', low_memory=False, skiprows=lambda i: i % n != 0)"
   ]
  },
  {
   "cell_type": "markdown",
   "metadata": {},
   "source": [
    "### Initial data inspection"
   ]
  },
  {
   "cell_type": "code",
   "execution_count": 5,
   "metadata": {},
   "outputs": [
    {
     "data": {
      "text/plain": [
       "(554238, 8)"
      ]
     },
     "execution_count": 5,
     "metadata": {},
     "output_type": "execute_result"
    }
   ],
   "source": [
    "df_raw.shape # this gives us about half a million rows, plent for quick prototyping"
   ]
  },
  {
   "cell_type": "code",
   "execution_count": 6,
   "metadata": {},
   "outputs": [
    {
     "data": {
      "text/html": [
       "<div>\n",
       "<style scoped>\n",
       "    .dataframe tbody tr th:only-of-type {\n",
       "        vertical-align: middle;\n",
       "    }\n",
       "\n",
       "    .dataframe tbody tr th {\n",
       "        vertical-align: top;\n",
       "    }\n",
       "\n",
       "    .dataframe thead th {\n",
       "        text-align: right;\n",
       "    }\n",
       "</style>\n",
       "<table border=\"1\" class=\"dataframe\">\n",
       "  <thead>\n",
       "    <tr style=\"text-align: right;\">\n",
       "      <th></th>\n",
       "      <th>key</th>\n",
       "      <th>fare_amount</th>\n",
       "      <th>pickup_datetime</th>\n",
       "      <th>pickup_longitude</th>\n",
       "      <th>pickup_latitude</th>\n",
       "      <th>dropoff_longitude</th>\n",
       "      <th>dropoff_latitude</th>\n",
       "      <th>passenger_count</th>\n",
       "    </tr>\n",
       "  </thead>\n",
       "  <tbody>\n",
       "    <tr>\n",
       "      <th>0</th>\n",
       "      <td>2011-06-09 00:53:00.00000066</td>\n",
       "      <td>5.7</td>\n",
       "      <td>2011-06-09 00:53:00 UTC</td>\n",
       "      <td>-73.983052</td>\n",
       "      <td>40.722588</td>\n",
       "      <td>-73.988022</td>\n",
       "      <td>40.733738</td>\n",
       "      <td>3</td>\n",
       "    </tr>\n",
       "    <tr>\n",
       "      <th>1</th>\n",
       "      <td>2013-01-05 21:36:00.000000198</td>\n",
       "      <td>5.5</td>\n",
       "      <td>2013-01-05 21:36:00 UTC</td>\n",
       "      <td>-73.989692</td>\n",
       "      <td>40.735497</td>\n",
       "      <td>-73.982012</td>\n",
       "      <td>40.739392</td>\n",
       "      <td>1</td>\n",
       "    </tr>\n",
       "    <tr>\n",
       "      <th>2</th>\n",
       "      <td>2015-04-18 08:29:08.0000002</td>\n",
       "      <td>11.5</td>\n",
       "      <td>2015-04-18 08:29:08 UTC</td>\n",
       "      <td>-73.955116</td>\n",
       "      <td>40.768990</td>\n",
       "      <td>-73.984238</td>\n",
       "      <td>40.748440</td>\n",
       "      <td>1</td>\n",
       "    </tr>\n",
       "    <tr>\n",
       "      <th>3</th>\n",
       "      <td>2009-09-02 05:18:10.0000001</td>\n",
       "      <td>25.7</td>\n",
       "      <td>2009-09-02 05:18:10 UTC</td>\n",
       "      <td>-73.991729</td>\n",
       "      <td>40.760501</td>\n",
       "      <td>-73.861246</td>\n",
       "      <td>40.767619</td>\n",
       "      <td>1</td>\n",
       "    </tr>\n",
       "    <tr>\n",
       "      <th>4</th>\n",
       "      <td>2012-11-30 11:02:00.000000111</td>\n",
       "      <td>38.8</td>\n",
       "      <td>2012-11-30 11:02:00 UTC</td>\n",
       "      <td>-73.974620</td>\n",
       "      <td>40.756922</td>\n",
       "      <td>-73.864002</td>\n",
       "      <td>40.767872</td>\n",
       "      <td>1</td>\n",
       "    </tr>\n",
       "  </tbody>\n",
       "</table>\n",
       "</div>"
      ],
      "text/plain": [
       "                             key  fare_amount          pickup_datetime  \\\n",
       "0   2011-06-09 00:53:00.00000066          5.7  2011-06-09 00:53:00 UTC   \n",
       "1  2013-01-05 21:36:00.000000198          5.5  2013-01-05 21:36:00 UTC   \n",
       "2    2015-04-18 08:29:08.0000002         11.5  2015-04-18 08:29:08 UTC   \n",
       "3    2009-09-02 05:18:10.0000001         25.7  2009-09-02 05:18:10 UTC   \n",
       "4  2012-11-30 11:02:00.000000111         38.8  2012-11-30 11:02:00 UTC   \n",
       "\n",
       "   pickup_longitude  pickup_latitude  dropoff_longitude  dropoff_latitude  \\\n",
       "0        -73.983052        40.722588         -73.988022         40.733738   \n",
       "1        -73.989692        40.735497         -73.982012         40.739392   \n",
       "2        -73.955116        40.768990         -73.984238         40.748440   \n",
       "3        -73.991729        40.760501         -73.861246         40.767619   \n",
       "4        -73.974620        40.756922         -73.864002         40.767872   \n",
       "\n",
       "   passenger_count  \n",
       "0                3  \n",
       "1                1  \n",
       "2                1  \n",
       "3                1  \n",
       "4                1  "
      ]
     },
     "execution_count": 6,
     "metadata": {},
     "output_type": "execute_result"
    }
   ],
   "source": [
    "df_raw.head()"
   ]
  },
  {
   "cell_type": "code",
   "execution_count": 7,
   "metadata": {},
   "outputs": [
    {
     "name": "stdout",
     "output_type": "stream",
     "text": [
      "<class 'pandas.core.frame.DataFrame'>\n",
      "RangeIndex: 554238 entries, 0 to 554237\n",
      "Data columns (total 8 columns):\n",
      "key                  554238 non-null object\n",
      "fare_amount          554238 non-null float64\n",
      "pickup_datetime      554238 non-null object\n",
      "pickup_longitude     554238 non-null float64\n",
      "pickup_latitude      554238 non-null float64\n",
      "dropoff_longitude    554231 non-null float64\n",
      "dropoff_latitude     554231 non-null float64\n",
      "passenger_count      554238 non-null int64\n",
      "dtypes: float64(5), int64(1), object(2)\n",
      "memory usage: 33.8+ MB\n"
     ]
    }
   ],
   "source": [
    "df_raw.info()"
   ]
  },
  {
   "cell_type": "code",
   "execution_count": 8,
   "metadata": {},
   "outputs": [
    {
     "data": {
      "text/html": [
       "<div>\n",
       "<style scoped>\n",
       "    .dataframe tbody tr th:only-of-type {\n",
       "        vertical-align: middle;\n",
       "    }\n",
       "\n",
       "    .dataframe tbody tr th {\n",
       "        vertical-align: top;\n",
       "    }\n",
       "\n",
       "    .dataframe thead th {\n",
       "        text-align: right;\n",
       "    }\n",
       "</style>\n",
       "<table border=\"1\" class=\"dataframe\">\n",
       "  <thead>\n",
       "    <tr style=\"text-align: right;\">\n",
       "      <th></th>\n",
       "      <th>fare_amount</th>\n",
       "      <th>pickup_longitude</th>\n",
       "      <th>pickup_latitude</th>\n",
       "      <th>dropoff_longitude</th>\n",
       "      <th>dropoff_latitude</th>\n",
       "      <th>passenger_count</th>\n",
       "    </tr>\n",
       "  </thead>\n",
       "  <tbody>\n",
       "    <tr>\n",
       "      <th>count</th>\n",
       "      <td>554238.000000</td>\n",
       "      <td>554238.000000</td>\n",
       "      <td>554238.000000</td>\n",
       "      <td>554231.000000</td>\n",
       "      <td>554231.000000</td>\n",
       "      <td>554238.000000</td>\n",
       "    </tr>\n",
       "    <tr>\n",
       "      <th>mean</th>\n",
       "      <td>11.355953</td>\n",
       "      <td>-72.488683</td>\n",
       "      <td>39.906692</td>\n",
       "      <td>-72.484505</td>\n",
       "      <td>39.919803</td>\n",
       "      <td>1.684964</td>\n",
       "    </tr>\n",
       "    <tr>\n",
       "      <th>std</th>\n",
       "      <td>9.740348</td>\n",
       "      <td>12.628182</td>\n",
       "      <td>10.126431</td>\n",
       "      <td>13.564444</td>\n",
       "      <td>8.976176</td>\n",
       "      <td>1.337053</td>\n",
       "    </tr>\n",
       "    <tr>\n",
       "      <th>min</th>\n",
       "      <td>-60.000000</td>\n",
       "      <td>-2608.756585</td>\n",
       "      <td>-3240.610495</td>\n",
       "      <td>-3341.375685</td>\n",
       "      <td>-1188.174022</td>\n",
       "      <td>0.000000</td>\n",
       "    </tr>\n",
       "    <tr>\n",
       "      <th>25%</th>\n",
       "      <td>6.000000</td>\n",
       "      <td>-73.992042</td>\n",
       "      <td>40.734942</td>\n",
       "      <td>-73.991392</td>\n",
       "      <td>40.734060</td>\n",
       "      <td>1.000000</td>\n",
       "    </tr>\n",
       "    <tr>\n",
       "      <th>50%</th>\n",
       "      <td>8.500000</td>\n",
       "      <td>-73.981773</td>\n",
       "      <td>40.752652</td>\n",
       "      <td>-73.980155</td>\n",
       "      <td>40.753192</td>\n",
       "      <td>1.000000</td>\n",
       "    </tr>\n",
       "    <tr>\n",
       "      <th>75%</th>\n",
       "      <td>12.500000</td>\n",
       "      <td>-73.967046</td>\n",
       "      <td>40.767143</td>\n",
       "      <td>-73.963668</td>\n",
       "      <td>40.768120</td>\n",
       "      <td>2.000000</td>\n",
       "    </tr>\n",
       "    <tr>\n",
       "      <th>max</th>\n",
       "      <td>315.000000</td>\n",
       "      <td>3456.222598</td>\n",
       "      <td>2209.220368</td>\n",
       "      <td>3456.222598</td>\n",
       "      <td>3313.673038</td>\n",
       "      <td>208.000000</td>\n",
       "    </tr>\n",
       "  </tbody>\n",
       "</table>\n",
       "</div>"
      ],
      "text/plain": [
       "         fare_amount  pickup_longitude  pickup_latitude  dropoff_longitude  \\\n",
       "count  554238.000000     554238.000000    554238.000000      554231.000000   \n",
       "mean       11.355953        -72.488683        39.906692         -72.484505   \n",
       "std         9.740348         12.628182        10.126431          13.564444   \n",
       "min       -60.000000      -2608.756585     -3240.610495       -3341.375685   \n",
       "25%         6.000000        -73.992042        40.734942         -73.991392   \n",
       "50%         8.500000        -73.981773        40.752652         -73.980155   \n",
       "75%        12.500000        -73.967046        40.767143         -73.963668   \n",
       "max       315.000000       3456.222598      2209.220368        3456.222598   \n",
       "\n",
       "       dropoff_latitude  passenger_count  \n",
       "count     554231.000000    554238.000000  \n",
       "mean          39.919803         1.684964  \n",
       "std            8.976176         1.337053  \n",
       "min        -1188.174022         0.000000  \n",
       "25%           40.734060         1.000000  \n",
       "50%           40.753192         1.000000  \n",
       "75%           40.768120         2.000000  \n",
       "max         3313.673038       208.000000  "
      ]
     },
     "execution_count": 8,
     "metadata": {},
     "output_type": "execute_result"
    }
   ],
   "source": [
    "df_raw.describe()"
   ]
  },
  {
   "cell_type": "markdown",
   "metadata": {},
   "source": [
    "We immidiately see few problems with the data that need to be addressed:\n",
    "1. The minimum fare_amount is -60. We expect it to be a positive number.\n",
    "2. Our latitudes and longitudes for both pickupp and dropoff have some obviously non-sensical values at the extremes.\n",
    "3. I'm reasonably certain a cab can't hold 218 passengers. Let's set a limit of 10.\n",
    "\n",
    "Let's just get rid of these data points."
   ]
  },
  {
   "cell_type": "code",
   "execution_count": 9,
   "metadata": {},
   "outputs": [
    {
     "name": "stdout",
     "output_type": "stream",
     "text": [
      "Old size: 554238\n",
      "New size: 542624\n"
     ]
    }
   ],
   "source": [
    "print(f'Old size: {len(df_raw)}')\n",
    "\n",
    "min_fare = 0\n",
    "max_pass = 10\n",
    "lat_range = [30, 50]\n",
    "lon_range = [-85, -65]\n",
    "\n",
    "df_raw = df_raw[(df_raw.pickup_latitude > lat_range[0]) & \n",
    "                (df_raw.pickup_latitude < lat_range[1]) & \n",
    "                (df_raw.pickup_longitude > lon_range[0]) & \n",
    "                (df_raw.pickup_longitude < lon_range[1]) &\n",
    "                (df_raw.dropoff_latitude > lat_range[0]) & \n",
    "                (df_raw.dropoff_latitude < lat_range[1]) & \n",
    "                (df_raw.dropoff_longitude > lon_range[0]) & \n",
    "                (df_raw.dropoff_longitude < lon_range[1]) & \n",
    "                (df_raw.fare_amount > min_fare) & \n",
    "                (df_raw.passenger_count < max_pass)]\n",
    "print(f'New size: {len(df_raw)}')"
   ]
  },
  {
   "cell_type": "markdown",
   "metadata": {},
   "source": [
    "That took off a little over 10,000 entries!"
   ]
  },
  {
   "cell_type": "code",
   "execution_count": 10,
   "metadata": {},
   "outputs": [
    {
     "data": {
      "text/html": [
       "<div>\n",
       "<style scoped>\n",
       "    .dataframe tbody tr th:only-of-type {\n",
       "        vertical-align: middle;\n",
       "    }\n",
       "\n",
       "    .dataframe tbody tr th {\n",
       "        vertical-align: top;\n",
       "    }\n",
       "\n",
       "    .dataframe thead th {\n",
       "        text-align: right;\n",
       "    }\n",
       "</style>\n",
       "<table border=\"1\" class=\"dataframe\">\n",
       "  <thead>\n",
       "    <tr style=\"text-align: right;\">\n",
       "      <th></th>\n",
       "      <th>fare_amount</th>\n",
       "      <th>pickup_longitude</th>\n",
       "      <th>pickup_latitude</th>\n",
       "      <th>dropoff_longitude</th>\n",
       "      <th>dropoff_latitude</th>\n",
       "      <th>passenger_count</th>\n",
       "    </tr>\n",
       "  </thead>\n",
       "  <tbody>\n",
       "    <tr>\n",
       "      <th>count</th>\n",
       "      <td>542624.000000</td>\n",
       "      <td>542624.000000</td>\n",
       "      <td>542624.000000</td>\n",
       "      <td>542624.000000</td>\n",
       "      <td>542624.000000</td>\n",
       "      <td>542624.000000</td>\n",
       "    </tr>\n",
       "    <tr>\n",
       "      <th>mean</th>\n",
       "      <td>11.334894</td>\n",
       "      <td>-73.975195</td>\n",
       "      <td>40.750989</td>\n",
       "      <td>-73.974358</td>\n",
       "      <td>40.751282</td>\n",
       "      <td>1.684459</td>\n",
       "    </tr>\n",
       "    <tr>\n",
       "      <th>std</th>\n",
       "      <td>9.648467</td>\n",
       "      <td>0.047688</td>\n",
       "      <td>0.040032</td>\n",
       "      <td>0.045290</td>\n",
       "      <td>0.041068</td>\n",
       "      <td>1.307485</td>\n",
       "    </tr>\n",
       "    <tr>\n",
       "      <th>min</th>\n",
       "      <td>0.010000</td>\n",
       "      <td>-84.489890</td>\n",
       "      <td>33.844160</td>\n",
       "      <td>-84.489872</td>\n",
       "      <td>33.844167</td>\n",
       "      <td>0.000000</td>\n",
       "    </tr>\n",
       "    <tr>\n",
       "      <th>25%</th>\n",
       "      <td>6.000000</td>\n",
       "      <td>-73.992249</td>\n",
       "      <td>40.736586</td>\n",
       "      <td>-73.991585</td>\n",
       "      <td>40.735605</td>\n",
       "      <td>1.000000</td>\n",
       "    </tr>\n",
       "    <tr>\n",
       "      <th>50%</th>\n",
       "      <td>8.500000</td>\n",
       "      <td>-73.982072</td>\n",
       "      <td>40.753368</td>\n",
       "      <td>-73.980614</td>\n",
       "      <td>40.753912</td>\n",
       "      <td>1.000000</td>\n",
       "    </tr>\n",
       "    <tr>\n",
       "      <th>75%</th>\n",
       "      <td>12.500000</td>\n",
       "      <td>-73.968277</td>\n",
       "      <td>40.767570</td>\n",
       "      <td>-73.965377</td>\n",
       "      <td>40.768416</td>\n",
       "      <td>2.000000</td>\n",
       "    </tr>\n",
       "    <tr>\n",
       "      <th>max</th>\n",
       "      <td>315.000000</td>\n",
       "      <td>-65.396312</td>\n",
       "      <td>49.466667</td>\n",
       "      <td>-65.396312</td>\n",
       "      <td>48.416667</td>\n",
       "      <td>6.000000</td>\n",
       "    </tr>\n",
       "  </tbody>\n",
       "</table>\n",
       "</div>"
      ],
      "text/plain": [
       "         fare_amount  pickup_longitude  pickup_latitude  dropoff_longitude  \\\n",
       "count  542624.000000     542624.000000    542624.000000      542624.000000   \n",
       "mean       11.334894        -73.975195        40.750989         -73.974358   \n",
       "std         9.648467          0.047688         0.040032           0.045290   \n",
       "min         0.010000        -84.489890        33.844160         -84.489872   \n",
       "25%         6.000000        -73.992249        40.736586         -73.991585   \n",
       "50%         8.500000        -73.982072        40.753368         -73.980614   \n",
       "75%        12.500000        -73.968277        40.767570         -73.965377   \n",
       "max       315.000000        -65.396312        49.466667         -65.396312   \n",
       "\n",
       "       dropoff_latitude  passenger_count  \n",
       "count     542624.000000    542624.000000  \n",
       "mean          40.751282         1.684459  \n",
       "std            0.041068         1.307485  \n",
       "min           33.844167         0.000000  \n",
       "25%           40.735605         1.000000  \n",
       "50%           40.753912         1.000000  \n",
       "75%           40.768416         2.000000  \n",
       "max           48.416667         6.000000  "
      ]
     },
     "execution_count": 10,
     "metadata": {},
     "output_type": "execute_result"
    }
   ],
   "source": [
    "df_raw.describe()"
   ]
  },
  {
   "cell_type": "markdown",
   "metadata": {},
   "source": [
    "## Pre-processing"
   ]
  },
  {
   "cell_type": "markdown",
   "metadata": {},
   "source": [
    "### Distance feature engineering"
   ]
  },
  {
   "cell_type": "code",
   "execution_count": 11,
   "metadata": {},
   "outputs": [],
   "source": [
    "# create two new features representing the latitude and longitude vectors traversed during the trip\n",
    "def add_travel_vector_features(df):\n",
    "    df['abs_diff_longitude'] = (df.dropoff_longitude - df.pickup_longitude).abs()\n",
    "    df['abs_diff_latitude'] = (df.dropoff_latitude - df.pickup_latitude).abs()\n",
    "\n",
    "add_travel_vector_features(df_raw)"
   ]
  },
  {
   "cell_type": "code",
   "execution_count": 12,
   "metadata": {},
   "outputs": [],
   "source": [
    "# distance – in units of degrees – travelled during each trip\n",
    "def add_distance_feature(df):\n",
    "    df['distance'] = np.sqrt(df.abs_diff_longitude**2 + df.abs_diff_latitude**2)\n",
    "    \n",
    "add_distance_feature(df_raw)"
   ]
  },
  {
   "cell_type": "code",
   "execution_count": 13,
   "metadata": {},
   "outputs": [
    {
     "data": {
      "image/png": "[encoded data removed]",
      "text/plain": [
       "<Figure size 432x288 with 1 Axes>"
      ]
     },
     "metadata": {},
     "output_type": "display_data"
    }
   ],
   "source": [
    "plot = df_raw.iloc[:2000].plot.scatter('abs_diff_longitude', 'abs_diff_latitude', alpha=0.5, s=7)"
   ]
  },
  {
   "cell_type": "markdown",
   "metadata": {},
   "source": [
    "Let's take a quick look at the distribution for both distance travelled and taxi fare within a limited range. These limits will help us better see the shape of the distribution."
   ]
  },
  {
   "cell_type": "code",
   "execution_count": 14,
   "metadata": {},
   "outputs": [
    {
     "data": {
      "text/plain": [
       "Text(0.5,1,'Taxi Ride Distance Distribution')"
      ]
     },
     "execution_count": 14,
     "metadata": {},
     "output_type": "execute_result"
    },
    {
     "data": {
      "image/png": "[encoded data removed]",
      "text/plain": [
       "<Figure size 1080x288 with 1 Axes>"
      ]
     },
     "metadata": {},
     "output_type": "display_data"
    }
   ],
   "source": [
    "short_rides = df_raw[(df_raw['abs_diff_latitude'] < 0.1) & (df_raw['abs_diff_longitude'] < 0.1)]\n",
    "\n",
    "# Kernel Density Plot for distance travelled \n",
    "fig = plt.figure(figsize=(15,4),)\n",
    "ax=sns.kdeplot(short_rides.distance , color='steelblue',shade=True,label='distance')\n",
    "plt.title('Taxi Ride Distance Distribution')"
   ]
  },
  {
   "cell_type": "markdown",
   "metadata": {},
   "source": [
    "The distance travelled follows a positive skewed normal distribution, with the max frequency at less than 0.02 degrees (about 1.4 miles). This makes intuitive sense. We'd expect most rides in NYC to be short, likely within Manhattan, with a few longer rides."
   ]
  },
  {
   "cell_type": "code",
   "execution_count": 15,
   "metadata": {},
   "outputs": [
    {
     "data": {
      "text/plain": [
       "Text(0.5,1,'Taxi Ride Fare')"
      ]
     },
     "execution_count": 15,
     "metadata": {},
     "output_type": "execute_result"
    },
    {
     "data": {
      "image/png": "[encoded data removed]",
      "text/plain": [
       "<Figure size 1080x288 with 1 Axes>"
      ]
     },
     "metadata": {},
     "output_type": "display_data"
    }
   ],
   "source": [
    "cheap_rides = df_raw[df_raw.fare_amount < 50]\n",
    "\n",
    "# Kernel Density Plot for taxi fare\n",
    "fig = plt.figure(figsize=(15,4),)\n",
    "ax=sns.kdeplot(cheap_rides.fare_amount , color='red',shade=True,label='fare_amount')\n",
    "plt.title('Taxi Ride Fare')"
   ]
  },
  {
   "cell_type": "markdown",
   "metadata": {},
   "source": [
    "Not surprisingly, taxi fares follow a very similar distribution. We'd expect the two to be highly correlated."
   ]
  },
  {
   "cell_type": "code",
   "execution_count": 16,
   "metadata": {},
   "outputs": [
    {
     "name": "stdout",
     "output_type": "stream",
     "text": [
      "Correlation between taxi fare and distance travelled: 0.6574225913460326\n"
     ]
    }
   ],
   "source": [
    "print(\"Correlation between taxi fare and distance travelled: \"+\n",
    "      f\"{df_raw['fare_amount'].corr(df_raw['distance'])}\")"
   ]
  },
  {
   "cell_type": "markdown",
   "metadata": {},
   "source": [
    "We see that the taxi fare has a high positive correlation with distance travelled. Generally speaking, longer rides are likely to cost more. Shocker!"
   ]
  },
  {
   "cell_type": "markdown",
   "metadata": {},
   "source": [
    "## Random Forests"
   ]
  },
  {
   "cell_type": "markdown",
   "metadata": {},
   "source": [
    "### Quick Baseline Model"
   ]
  },
  {
   "cell_type": "code",
   "execution_count": 17,
   "metadata": {},
   "outputs": [
    {
     "name": "stdout",
     "output_type": "stream",
     "text": [
      "CPU times: user 1min 47s, sys: 621 ms, total: 1min 48s\n",
      "Wall time: 32 s\n"
     ]
    },
    {
     "data": {
      "text/plain": [
       "0.9643245894755593"
      ]
     },
     "execution_count": 17,
     "metadata": {},
     "output_type": "execute_result"
    }
   ],
   "source": [
    "X_train = df_raw.drop(['key', 'pickup_datetime', 'fare_amount'], axis=1)\n",
    "y_train = df_raw.fare_amount\n",
    "\n",
    "m = RandomForestRegressor(n_jobs=-1)\n",
    "%time m.fit(X_train, y_train)\n",
    "m.score(X_train, y_train)"
   ]
  },
  {
   "cell_type": "markdown",
   "metadata": {},
   "source": [
    "Our quick and dirty Random Forest model has an $R^2$ of 0.96. However, this isn't as impressive a feat as it might seem. First, let's see how it does on our test data."
   ]
  },
  {
   "cell_type": "code",
   "execution_count": 18,
   "metadata": {},
   "outputs": [
    {
     "data": {
      "text/html": [
       "<div>\n",
       "<style scoped>\n",
       "    .dataframe tbody tr th:only-of-type {\n",
       "        vertical-align: middle;\n",
       "    }\n",
       "\n",
       "    .dataframe tbody tr th {\n",
       "        vertical-align: top;\n",
       "    }\n",
       "\n",
       "    .dataframe thead th {\n",
       "        text-align: right;\n",
       "    }\n",
       "</style>\n",
       "<table border=\"1\" class=\"dataframe\">\n",
       "  <thead>\n",
       "    <tr style=\"text-align: right;\">\n",
       "      <th></th>\n",
       "      <th>key</th>\n",
       "      <th>pickup_datetime</th>\n",
       "      <th>pickup_longitude</th>\n",
       "      <th>pickup_latitude</th>\n",
       "      <th>dropoff_longitude</th>\n",
       "      <th>dropoff_latitude</th>\n",
       "      <th>passenger_count</th>\n",
       "    </tr>\n",
       "  </thead>\n",
       "  <tbody>\n",
       "    <tr>\n",
       "      <th>0</th>\n",
       "      <td>2015-01-27 13:08:24.0000002</td>\n",
       "      <td>2015-01-27 13:08:24 UTC</td>\n",
       "      <td>-73.973320</td>\n",
       "      <td>40.763805</td>\n",
       "      <td>-73.981430</td>\n",
       "      <td>40.743835</td>\n",
       "      <td>1</td>\n",
       "    </tr>\n",
       "    <tr>\n",
       "      <th>1</th>\n",
       "      <td>2015-01-27 13:08:24.0000003</td>\n",
       "      <td>2015-01-27 13:08:24 UTC</td>\n",
       "      <td>-73.986862</td>\n",
       "      <td>40.719383</td>\n",
       "      <td>-73.998886</td>\n",
       "      <td>40.739201</td>\n",
       "      <td>1</td>\n",
       "    </tr>\n",
       "    <tr>\n",
       "      <th>2</th>\n",
       "      <td>2011-10-08 11:53:44.0000002</td>\n",
       "      <td>2011-10-08 11:53:44 UTC</td>\n",
       "      <td>-73.982524</td>\n",
       "      <td>40.751260</td>\n",
       "      <td>-73.979654</td>\n",
       "      <td>40.746139</td>\n",
       "      <td>1</td>\n",
       "    </tr>\n",
       "    <tr>\n",
       "      <th>3</th>\n",
       "      <td>2012-12-01 21:12:12.0000002</td>\n",
       "      <td>2012-12-01 21:12:12 UTC</td>\n",
       "      <td>-73.981160</td>\n",
       "      <td>40.767807</td>\n",
       "      <td>-73.990448</td>\n",
       "      <td>40.751635</td>\n",
       "      <td>1</td>\n",
       "    </tr>\n",
       "    <tr>\n",
       "      <th>4</th>\n",
       "      <td>2012-12-01 21:12:12.0000003</td>\n",
       "      <td>2012-12-01 21:12:12 UTC</td>\n",
       "      <td>-73.966046</td>\n",
       "      <td>40.789775</td>\n",
       "      <td>-73.988565</td>\n",
       "      <td>40.744427</td>\n",
       "      <td>1</td>\n",
       "    </tr>\n",
       "  </tbody>\n",
       "</table>\n",
       "</div>"
      ],
      "text/plain": [
       "                           key          pickup_datetime  pickup_longitude  \\\n",
       "0  2015-01-27 13:08:24.0000002  2015-01-27 13:08:24 UTC        -73.973320   \n",
       "1  2015-01-27 13:08:24.0000003  2015-01-27 13:08:24 UTC        -73.986862   \n",
       "2  2011-10-08 11:53:44.0000002  2011-10-08 11:53:44 UTC        -73.982524   \n",
       "3  2012-12-01 21:12:12.0000002  2012-12-01 21:12:12 UTC        -73.981160   \n",
       "4  2012-12-01 21:12:12.0000003  2012-12-01 21:12:12 UTC        -73.966046   \n",
       "\n",
       "   pickup_latitude  dropoff_longitude  dropoff_latitude  passenger_count  \n",
       "0        40.763805         -73.981430         40.743835                1  \n",
       "1        40.719383         -73.998886         40.739201                1  \n",
       "2        40.751260         -73.979654         40.746139                1  \n",
       "3        40.767807         -73.990448         40.751635                1  \n",
       "4        40.789775         -73.988565         40.744427                1  "
      ]
     },
     "execution_count": 18,
     "metadata": {},
     "output_type": "execute_result"
    }
   ],
   "source": [
    "test_raw = pd.read_csv(f'{PATH}test.csv')\n",
    "test_raw.head()"
   ]
  },
  {
   "cell_type": "code",
   "execution_count": 19,
   "metadata": {},
   "outputs": [
    {
     "data": {
      "text/plain": [
       "(9914, 7)"
      ]
     },
     "execution_count": 19,
     "metadata": {},
     "output_type": "execute_result"
    }
   ],
   "source": [
    "test_raw.shape"
   ]
  },
  {
   "cell_type": "code",
   "execution_count": 20,
   "metadata": {},
   "outputs": [
    {
     "data": {
      "text/html": [
       "<div>\n",
       "<style scoped>\n",
       "    .dataframe tbody tr th:only-of-type {\n",
       "        vertical-align: middle;\n",
       "    }\n",
       "\n",
       "    .dataframe tbody tr th {\n",
       "        vertical-align: top;\n",
       "    }\n",
       "\n",
       "    .dataframe thead th {\n",
       "        text-align: right;\n",
       "    }\n",
       "</style>\n",
       "<table border=\"1\" class=\"dataframe\">\n",
       "  <thead>\n",
       "    <tr style=\"text-align: right;\">\n",
       "      <th></th>\n",
       "      <th>pickup_longitude</th>\n",
       "      <th>pickup_latitude</th>\n",
       "      <th>dropoff_longitude</th>\n",
       "      <th>dropoff_latitude</th>\n",
       "      <th>passenger_count</th>\n",
       "    </tr>\n",
       "  </thead>\n",
       "  <tbody>\n",
       "    <tr>\n",
       "      <th>count</th>\n",
       "      <td>9914.000000</td>\n",
       "      <td>9914.000000</td>\n",
       "      <td>9914.000000</td>\n",
       "      <td>9914.000000</td>\n",
       "      <td>9914.000000</td>\n",
       "    </tr>\n",
       "    <tr>\n",
       "      <th>mean</th>\n",
       "      <td>-73.974722</td>\n",
       "      <td>40.751041</td>\n",
       "      <td>-73.973657</td>\n",
       "      <td>40.751743</td>\n",
       "      <td>1.671273</td>\n",
       "    </tr>\n",
       "    <tr>\n",
       "      <th>std</th>\n",
       "      <td>0.042774</td>\n",
       "      <td>0.033541</td>\n",
       "      <td>0.039072</td>\n",
       "      <td>0.035435</td>\n",
       "      <td>1.278747</td>\n",
       "    </tr>\n",
       "    <tr>\n",
       "      <th>min</th>\n",
       "      <td>-74.252193</td>\n",
       "      <td>40.573143</td>\n",
       "      <td>-74.263242</td>\n",
       "      <td>40.568973</td>\n",
       "      <td>1.000000</td>\n",
       "    </tr>\n",
       "    <tr>\n",
       "      <th>25%</th>\n",
       "      <td>-73.992501</td>\n",
       "      <td>40.736125</td>\n",
       "      <td>-73.991247</td>\n",
       "      <td>40.735254</td>\n",
       "      <td>1.000000</td>\n",
       "    </tr>\n",
       "    <tr>\n",
       "      <th>50%</th>\n",
       "      <td>-73.982326</td>\n",
       "      <td>40.753051</td>\n",
       "      <td>-73.980015</td>\n",
       "      <td>40.754065</td>\n",
       "      <td>1.000000</td>\n",
       "    </tr>\n",
       "    <tr>\n",
       "      <th>75%</th>\n",
       "      <td>-73.968013</td>\n",
       "      <td>40.767113</td>\n",
       "      <td>-73.964059</td>\n",
       "      <td>40.768757</td>\n",
       "      <td>2.000000</td>\n",
       "    </tr>\n",
       "    <tr>\n",
       "      <th>max</th>\n",
       "      <td>-72.986532</td>\n",
       "      <td>41.709555</td>\n",
       "      <td>-72.990963</td>\n",
       "      <td>41.696683</td>\n",
       "      <td>6.000000</td>\n",
       "    </tr>\n",
       "  </tbody>\n",
       "</table>\n",
       "</div>"
      ],
      "text/plain": [
       "       pickup_longitude  pickup_latitude  dropoff_longitude  dropoff_latitude  \\\n",
       "count       9914.000000      9914.000000        9914.000000       9914.000000   \n",
       "mean         -73.974722        40.751041         -73.973657         40.751743   \n",
       "std            0.042774         0.033541           0.039072          0.035435   \n",
       "min          -74.252193        40.573143         -74.263242         40.568973   \n",
       "25%          -73.992501        40.736125         -73.991247         40.735254   \n",
       "50%          -73.982326        40.753051         -73.980015         40.754065   \n",
       "75%          -73.968013        40.767113         -73.964059         40.768757   \n",
       "max          -72.986532        41.709555         -72.990963         41.696683   \n",
       "\n",
       "       passenger_count  \n",
       "count      9914.000000  \n",
       "mean          1.671273  \n",
       "std           1.278747  \n",
       "min           1.000000  \n",
       "25%           1.000000  \n",
       "50%           1.000000  \n",
       "75%           2.000000  \n",
       "max           6.000000  "
      ]
     },
     "execution_count": 20,
     "metadata": {},
     "output_type": "execute_result"
    }
   ],
   "source": [
    "test_raw.describe()"
   ]
  },
  {
   "cell_type": "markdown",
   "metadata": {},
   "source": [
    "Here we run into a problem. Our test data set doesn't actually contain the fare amounts and so we'd have to do one of two things:\n",
    "1. Test our model by submitting to Kaggle. This will give us an RMSE, not an $R^2$.\n",
    "2. Hold out a small portion of our training set as a validation set, retrain our model, and test it on the validation set.\n",
    "\n",
    "Let's do the latter."
   ]
  },
  {
   "cell_type": "code",
   "execution_count": 21,
   "metadata": {},
   "outputs": [
    {
     "data": {
      "text/plain": [
       "((532710, 8), (532710,), (9914, 8), (9914,))"
      ]
     },
     "execution_count": 21,
     "metadata": {},
     "output_type": "execute_result"
    }
   ],
   "source": [
    "def split_vals(df, n): return df[:n].copy(), df[n:].copy()\n",
    "\n",
    "n_valid = 9914  # same as Kaggle's test set size\n",
    "n_trn = len(X_train)-n_valid\n",
    "raw_train, raw_valid = split_vals(df_raw, n_trn)\n",
    "X_train, X_valid = split_vals(X_train, n_trn)\n",
    "y_train, y_valid = split_vals(y_train, n_trn)\n",
    "\n",
    "X_train.shape, y_train.shape, X_valid.shape, y_valid.shape"
   ]
  },
  {
   "cell_type": "code",
   "execution_count": 22,
   "metadata": {},
   "outputs": [
    {
     "data": {
      "text/plain": [
       "0.9637577609181199"
      ]
     },
     "execution_count": 22,
     "metadata": {},
     "output_type": "execute_result"
    }
   ],
   "source": [
    "m = RandomForestRegressor()\n",
    "m.fit(X_train, y_train)\n",
    "m.score(X_train, y_train)"
   ]
  },
  {
   "cell_type": "code",
   "execution_count": 23,
   "metadata": {},
   "outputs": [],
   "source": [
    "def rmse(x,y): return math.sqrt(((x-y)**2).mean())\n",
    "\n",
    "def print_score(m):\n",
    "    res = [rmse(m.predict(X_train), y_train), rmse(m.predict(X_valid), y_valid),\n",
    "                m.score(X_train, y_train), m.score(X_valid, y_valid)]\n",
    "    if hasattr(m, 'oob_score_'): res.append(m.oob_score_)\n",
    "    print(res)"
   ]
  },
  {
   "cell_type": "code",
   "execution_count": 24,
   "metadata": {},
   "outputs": [
    {
     "name": "stdout",
     "output_type": "stream",
     "text": [
      "[1.8364172034430748, 4.2913318899833275, 0.9637577609181199, 0.8066592017932509]\n"
     ]
    }
   ],
   "source": [
    "print_score(m)"
   ]
  },
  {
   "cell_type": "markdown",
   "metadata": {},
   "source": [
    "While this simple, no-brainer Random Forest isn't doing a terrible job on our validation set, we could do better. The drop in $R^2$ from training to validation means that we are seriously overfitting our data. Also, if you think about it, an RMSE of \\$4.31 on a taxi fare prediction is rather high!\n",
    "\n",
    "To reiterate, we'd like to be able to beat our **baseline RF Regressor $R^2$ of 0.80**."
   ]
  },
  {
   "cell_type": "markdown",
   "metadata": {},
   "source": [
    "### Bagging"
   ]
  },
  {
   "cell_type": "markdown",
   "metadata": {},
   "source": [
    "Our Random Forest already uses a technique called bagging of multiple trees to give us more generalizable results. To understand what this does, let's take a look at what a single tree with no bagging looks like."
   ]
  },
  {
   "cell_type": "markdown",
   "metadata": {},
   "source": [
    "#### Use a Subset\n",
    "We don't really need all 500k rows at this stage and can afford to use a small subset of this data for prototyping"
   ]
  },
  {
   "cell_type": "code",
   "execution_count": 26,
   "metadata": {},
   "outputs": [],
   "source": [
    "df_sub = raw_train.sample(40000)\n",
    "X_sub = df_sub.drop(['key', 'pickup_datetime', 'fare_amount'], axis=1)\n",
    "y_sub = df_sub.fare_amount"
   ]
  },
  {
   "cell_type": "code",
   "execution_count": 27,
   "metadata": {},
   "outputs": [
    {
     "name": "stdout",
     "output_type": "stream",
     "text": [
      "CPU times: user 5.05 s, sys: 46.5 ms, total: 5.1 s\n",
      "Wall time: 1.56 s\n"
     ]
    },
    {
     "data": {
      "text/plain": [
       "0.799919987540942"
      ]
     },
     "execution_count": 27,
     "metadata": {},
     "output_type": "execute_result"
    }
   ],
   "source": [
    "m = RandomForestRegressor(n_jobs=-1)\n",
    "%time m.fit(X_sub, y_sub)\n",
    "m.score(X_valid, y_valid)"
   ]
  },
  {
   "cell_type": "markdown",
   "metadata": {},
   "source": [
    "Using a 40,000 row sample of our training set and testing it on the same validation set gives only a small drop in $R^2$. Let's rename our subsets so we can use the print_score function on them, which takes X_train and y_train."
   ]
  },
  {
   "cell_type": "code",
   "execution_count": 28,
   "metadata": {},
   "outputs": [
    {
     "name": "stdout",
     "output_type": "stream",
     "text": [
      "[1.925140086192821, 4.36548201418635, 0.959367273872389, 0.799919987540942]\n"
     ]
    }
   ],
   "source": [
    "X_train = X_sub\n",
    "y_train = y_sub\n",
    "\n",
    "print_score(m)"
   ]
  },
  {
   "cell_type": "markdown",
   "metadata": {},
   "source": [
    "#### Single Tree"
   ]
  },
  {
   "cell_type": "code",
   "execution_count": 29,
   "metadata": {},
   "outputs": [
    {
     "name": "stdout",
     "output_type": "stream",
     "text": [
      "[4.77753032396114, 4.857997391205473, 0.7497591588802642, 0.7522270716021945]\n"
     ]
    }
   ],
   "source": [
    "m = RandomForestRegressor(n_estimators=1, max_depth=3, bootstrap=False, n_jobs=-1)\n",
    "m.fit(X_train, y_train)\n",
    "print_score(m)"
   ]
  },
  {
   "cell_type": "code",
   "execution_count": 30,
   "metadata": {},
   "outputs": [],
   "source": [
    "def draw_tree(t, df, size=10, ratio=0.6, precision=0):\n",
    "    s=export_graphviz(t, out_file=None, feature_names=df.columns, filled=True,\n",
    "                      special_characters=True, rotate=True, precision=precision)\n",
    "    IPython.display.display(graphviz.Source(re.sub('Tree {',\n",
    "       f'Tree {{ size={size}; ratio={ratio}', s)))"
   ]
  },
  {
   "cell_type": "code",
   "execution_count": 33,
   "metadata": {},
   "outputs": [
    {
     "data": {
      "image/svg+xml": [
       "<?xml version=\"1.0\" encoding=\"UTF-8\" standalone=\"no\"?>\n",
       "<!DOCTYPE svg PUBLIC \"-//W3C//DTD SVG 1.1//EN\"\n",
       " \"http://www.w3.org/Graphics/SVG/1.1/DTD/svg11.dtd\">\n",
       "<!-- Generated by graphviz version 2.40.1 (20161225.0304)\n",
       " -->\n",
       "<!-- Title: Tree Pages: 1 -->\n",
       "<svg width=\"720pt\" height=\"434pt\"\n",
       " viewBox=\"0.00 0.00 720.00 434.28\" xmlns=\"http://www.w3.org/2000/svg\" xmlns:xlink=\"http://www.w3.org/1999/xlink\">\n",
       "<g id=\"graph0\" class=\"graph\" transform=\"scale(.8133 .8133) rotate(0) translate(4 530)\">\n",
       "<title>Tree</title>\n",
       "<polygon fill=\"#ffffff\" stroke=\"transparent\" points=\"-4,4 -4,-530 881.3296,-530 881.3296,4 -4,4\"/>\n",
       "<!-- 0 -->\n",
       "<g id=\"node1\" class=\"node\">\n",
       "<title>0</title>\n",
       "<polygon fill=\"#e58139\" fill-opacity=\"0.070588\" stroke=\"#000000\" points=\"134.8286,-322 23.8306,-322 23.8306,-258 134.8286,-258 134.8286,-322\"/>\n",
       "<text text-anchor=\"start\" x=\"33.3032\" y=\"-306.8\" font-family=\"Times,serif\" font-size=\"14.00\" fill=\"#000000\">distance ≤ 0.086</text>\n",
       "<text text-anchor=\"start\" x=\"41.6123\" y=\"-292.8\" font-family=\"Times,serif\" font-size=\"14.00\" fill=\"#000000\">mse = 91.211</text>\n",
       "<text text-anchor=\"start\" x=\"31.8301\" y=\"-278.8\" font-family=\"Times,serif\" font-size=\"14.00\" fill=\"#000000\">samples = 40000</text>\n",
       "<text text-anchor=\"start\" x=\"37.7295\" y=\"-264.8\" font-family=\"Times,serif\" font-size=\"14.00\" fill=\"#000000\">value = 11.323</text>\n",
       "</g>\n",
       "<!-- 1 -->\n",
       "<g id=\"node2\" class=\"node\">\n",
       "<title>1</title>\n",
       "<polygon fill=\"#e58139\" fill-opacity=\"0.039216\" stroke=\"#000000\" points=\"343.8286,-356 232.8306,-356 232.8306,-292 343.8286,-292 343.8286,-356\"/>\n",
       "<text text-anchor=\"start\" x=\"242.3032\" y=\"-340.8\" font-family=\"Times,serif\" font-size=\"14.00\" fill=\"#000000\">distance ≤ 0.034</text>\n",
       "<text text-anchor=\"start\" x=\"250.356\" y=\"-326.8\" font-family=\"Times,serif\" font-size=\"14.00\" fill=\"#000000\">mse = 31.063</text>\n",
       "<text text-anchor=\"start\" x=\"240.8301\" y=\"-312.8\" font-family=\"Times,serif\" font-size=\"14.00\" fill=\"#000000\">samples = 36978</text>\n",
       "<text text-anchor=\"start\" x=\"249.9732\" y=\"-298.8\" font-family=\"Times,serif\" font-size=\"14.00\" fill=\"#000000\">value = 9.328</text>\n",
       "</g>\n",
       "<!-- 0&#45;&gt;1 -->\n",
       "<g id=\"edge1\" class=\"edge\">\n",
       "<title>0&#45;&gt;1</title>\n",
       "<path fill=\"none\" stroke=\"#000000\" d=\"M135.0632,-299.0667C161.9878,-303.4468 194.4799,-308.7326 222.6053,-313.308\"/>\n",
       "<polygon fill=\"#000000\" stroke=\"#000000\" points=\"222.3191,-316.8074 232.7513,-314.9586 223.4431,-309.8982 222.3191,-316.8074\"/>\n",
       "<text text-anchor=\"middle\" x=\"212.4645\" y=\"-325.3684\" font-family=\"Times,serif\" font-size=\"14.00\" fill=\"#000000\">True</text>\n",
       "</g>\n",
       "<!-- 8 -->\n",
       "<g id=\"node9\" class=\"node\">\n",
       "<title>8</title>\n",
       "<polygon fill=\"#e58139\" fill-opacity=\"0.419608\" stroke=\"#000000\" points=\"342.3824,-234 234.2769,-234 234.2769,-170 342.3824,-170 342.3824,-234\"/>\n",
       "<text text-anchor=\"start\" x=\"242.3032\" y=\"-218.8\" font-family=\"Times,serif\" font-size=\"14.00\" fill=\"#000000\">distance ≤ 0.174</text>\n",
       "<text text-anchor=\"start\" x=\"246.856\" y=\"-204.8\" font-family=\"Times,serif\" font-size=\"14.00\" fill=\"#000000\">mse = 182.487</text>\n",
       "<text text-anchor=\"start\" x=\"244.3301\" y=\"-190.8\" font-family=\"Times,serif\" font-size=\"14.00\" fill=\"#000000\">samples = 3022</text>\n",
       "<text text-anchor=\"start\" x=\"246.4732\" y=\"-176.8\" font-family=\"Times,serif\" font-size=\"14.00\" fill=\"#000000\">value = 35.736</text>\n",
       "</g>\n",
       "<!-- 0&#45;&gt;8 -->\n",
       "<g id=\"edge8\" class=\"edge\">\n",
       "<title>0&#45;&gt;8</title>\n",
       "<path fill=\"none\" stroke=\"#000000\" d=\"M135.0632,-266.5332C162.6585,-254.9141 196.1022,-240.8326 224.699,-228.7918\"/>\n",
       "<polygon fill=\"#000000\" stroke=\"#000000\" points=\"226.3376,-231.8995 234.1958,-224.7932 223.6212,-225.4481 226.3376,-231.8995\"/>\n",
       "<text text-anchor=\"middle\" x=\"211.0435\" y=\"-211.1608\" font-family=\"Times,serif\" font-size=\"14.00\" fill=\"#000000\">False</text>\n",
       "</g>\n",
       "<!-- 2 -->\n",
       "<g id=\"node3\" class=\"node\">\n",
       "<title>2</title>\n",
       "<polygon fill=\"#e58139\" fill-opacity=\"0.015686\" stroke=\"#000000\" points=\"598.8286,-465 487.8306,-465 487.8306,-401 598.8286,-401 598.8286,-465\"/>\n",
       "<text text-anchor=\"start\" x=\"500.8032\" y=\"-449.8\" font-family=\"Times,serif\" font-size=\"14.00\" fill=\"#000000\">distance ≤ 0.02</text>\n",
       "<text text-anchor=\"start\" x=\"505.356\" y=\"-435.8\" font-family=\"Times,serif\" font-size=\"14.00\" fill=\"#000000\">mse = 18.481</text>\n",
       "<text text-anchor=\"start\" x=\"495.8301\" y=\"-421.8\" font-family=\"Times,serif\" font-size=\"14.00\" fill=\"#000000\">samples = 27849</text>\n",
       "<text text-anchor=\"start\" x=\"504.9732\" y=\"-407.8\" font-family=\"Times,serif\" font-size=\"14.00\" fill=\"#000000\">value = 7.521</text>\n",
       "</g>\n",
       "<!-- 1&#45;&gt;2 -->\n",
       "<g id=\"edge2\" class=\"edge\">\n",
       "<title>1&#45;&gt;2</title>\n",
       "<path fill=\"none\" stroke=\"#000000\" d=\"M343.9753,-347.7858C383.6215,-364.7326 437.0301,-387.5622 478.5879,-405.3261\"/>\n",
       "<polygon fill=\"#000000\" stroke=\"#000000\" points=\"477.2316,-408.5527 487.8025,-409.2649 479.983,-402.116 477.2316,-408.5527\"/>\n",
       "</g>\n",
       "<!-- 5 -->\n",
       "<g id=\"node6\" class=\"node\">\n",
       "<title>5</title>\n",
       "<polygon fill=\"#e58139\" fill-opacity=\"0.121569\" stroke=\"#000000\" points=\"597.3824,-356 489.2769,-356 489.2769,-292 597.3824,-292 597.3824,-356\"/>\n",
       "<text text-anchor=\"start\" x=\"497.3032\" y=\"-340.8\" font-family=\"Times,serif\" font-size=\"14.00\" fill=\"#000000\">distance ≤ 0.056</text>\n",
       "<text text-anchor=\"start\" x=\"505.356\" y=\"-326.8\" font-family=\"Times,serif\" font-size=\"14.00\" fill=\"#000000\">mse = 29.079</text>\n",
       "<text text-anchor=\"start\" x=\"499.3301\" y=\"-312.8\" font-family=\"Times,serif\" font-size=\"14.00\" fill=\"#000000\">samples = 9129</text>\n",
       "<text text-anchor=\"start\" x=\"501.4732\" y=\"-298.8\" font-family=\"Times,serif\" font-size=\"14.00\" fill=\"#000000\">value = 14.842</text>\n",
       "</g>\n",
       "<!-- 1&#45;&gt;5 -->\n",
       "<g id=\"edge5\" class=\"edge\">\n",
       "<title>1&#45;&gt;5</title>\n",
       "<path fill=\"none\" stroke=\"#000000\" d=\"M343.9753,-324C383.7777,-324 437.4514,-324 479.0788,-324\"/>\n",
       "<polygon fill=\"#000000\" stroke=\"#000000\" points=\"479.1154,-327.5001 489.1154,-324 479.1153,-320.5001 479.1154,-327.5001\"/>\n",
       "</g>\n",
       "<!-- 3 -->\n",
       "<g id=\"node4\" class=\"node\">\n",
       "<title>3</title>\n",
       "<polygon fill=\"transparent\" stroke=\"#000000\" points=\"853.8286,-526 742.8306,-526 742.8306,-476 853.8286,-476 853.8286,-526\"/>\n",
       "<text text-anchor=\"start\" x=\"760.356\" y=\"-510.8\" font-family=\"Times,serif\" font-size=\"14.00\" fill=\"#000000\">mse = 19.378</text>\n",
       "<text text-anchor=\"start\" x=\"750.8301\" y=\"-496.8\" font-family=\"Times,serif\" font-size=\"14.00\" fill=\"#000000\">samples = 18179</text>\n",
       "<text text-anchor=\"start\" x=\"759.9732\" y=\"-482.8\" font-family=\"Times,serif\" font-size=\"14.00\" fill=\"#000000\">value = 6.479</text>\n",
       "</g>\n",
       "<!-- 2&#45;&gt;3 -->\n",
       "<g id=\"edge3\" class=\"edge\">\n",
       "<title>2&#45;&gt;3</title>\n",
       "<path fill=\"none\" stroke=\"#000000\" d=\"M598.9753,-447.8389C638.4549,-458.3667 691.5816,-472.5339 733.0634,-483.5957\"/>\n",
       "<polygon fill=\"#000000\" stroke=\"#000000\" points=\"732.2383,-486.9979 742.8025,-486.1928 734.042,-480.2343 732.2383,-486.9979\"/>\n",
       "</g>\n",
       "<!-- 4 -->\n",
       "<g id=\"node5\" class=\"node\">\n",
       "<title>4</title>\n",
       "<polygon fill=\"#e58139\" fill-opacity=\"0.043137\" stroke=\"#000000\" points=\"850.3286,-458 746.3306,-458 746.3306,-408 850.3286,-408 850.3286,-458\"/>\n",
       "<text text-anchor=\"start\" x=\"760.356\" y=\"-442.8\" font-family=\"Times,serif\" font-size=\"14.00\" fill=\"#000000\">mse = 10.922</text>\n",
       "<text text-anchor=\"start\" x=\"754.3301\" y=\"-428.8\" font-family=\"Times,serif\" font-size=\"14.00\" fill=\"#000000\">samples = 9670</text>\n",
       "<text text-anchor=\"start\" x=\"759.9732\" y=\"-414.8\" font-family=\"Times,serif\" font-size=\"14.00\" fill=\"#000000\">value = 9.478</text>\n",
       "</g>\n",
       "<!-- 2&#45;&gt;4 -->\n",
       "<g id=\"edge4\" class=\"edge\">\n",
       "<title>2&#45;&gt;4</title>\n",
       "<path fill=\"none\" stroke=\"#000000\" d=\"M598.9753,-433C639.4547,-433 694.2811,-433 736.192,-433\"/>\n",
       "<polygon fill=\"#000000\" stroke=\"#000000\" points=\"736.2803,-436.5001 746.2803,-433 736.2803,-429.5001 736.2803,-436.5001\"/>\n",
       "</g>\n",
       "<!-- 6 -->\n",
       "<g id=\"node7\" class=\"node\">\n",
       "<title>6</title>\n",
       "<polygon fill=\"#e58139\" fill-opacity=\"0.098039\" stroke=\"#000000\" points=\"850.3286,-390 746.3306,-390 746.3306,-340 850.3286,-340 850.3286,-390\"/>\n",
       "<text text-anchor=\"start\" x=\"760.356\" y=\"-374.8\" font-family=\"Times,serif\" font-size=\"14.00\" fill=\"#000000\">mse = 18.589</text>\n",
       "<text text-anchor=\"start\" x=\"754.3301\" y=\"-360.8\" font-family=\"Times,serif\" font-size=\"14.00\" fill=\"#000000\">samples = 6310</text>\n",
       "<text text-anchor=\"start\" x=\"759.9732\" y=\"-346.8\" font-family=\"Times,serif\" font-size=\"14.00\" fill=\"#000000\">value = 13.24</text>\n",
       "</g>\n",
       "<!-- 5&#45;&gt;6 -->\n",
       "<g id=\"edge6\" class=\"edge\">\n",
       "<title>5&#45;&gt;6</title>\n",
       "<path fill=\"none\" stroke=\"#000000\" d=\"M597.4085,-332.695C638.0125,-339.2235 693.6867,-348.1751 736.1335,-354.9998\"/>\n",
       "<polygon fill=\"#000000\" stroke=\"#000000\" points=\"735.6438,-358.466 746.0727,-356.5979 736.7551,-351.5547 735.6438,-358.466\"/>\n",
       "</g>\n",
       "<!-- 7 -->\n",
       "<g id=\"node8\" class=\"node\">\n",
       "<title>7</title>\n",
       "<polygon fill=\"#e58139\" fill-opacity=\"0.172549\" stroke=\"#000000\" points=\"850.3286,-322 746.3306,-322 746.3306,-272 850.3286,-272 850.3286,-322\"/>\n",
       "<text text-anchor=\"start\" x=\"760.356\" y=\"-306.8\" font-family=\"Times,serif\" font-size=\"14.00\" fill=\"#000000\">mse = 33.967</text>\n",
       "<text text-anchor=\"start\" x=\"754.3301\" y=\"-292.8\" font-family=\"Times,serif\" font-size=\"14.00\" fill=\"#000000\">samples = 2819</text>\n",
       "<text text-anchor=\"start\" x=\"756.4732\" y=\"-278.8\" font-family=\"Times,serif\" font-size=\"14.00\" fill=\"#000000\">value = 18.427</text>\n",
       "</g>\n",
       "<!-- 5&#45;&gt;7 -->\n",
       "<g id=\"edge7\" class=\"edge\">\n",
       "<title>5&#45;&gt;7</title>\n",
       "<path fill=\"none\" stroke=\"#000000\" d=\"M597.4085,-318.274C637.9269,-313.9838 693.4518,-308.1047 735.8647,-303.6139\"/>\n",
       "<polygon fill=\"#000000\" stroke=\"#000000\" points=\"736.4968,-307.0667 746.0727,-302.5331 735.7597,-300.1056 736.4968,-307.0667\"/>\n",
       "</g>\n",
       "<!-- 9 -->\n",
       "<g id=\"node10\" class=\"node\">\n",
       "<title>9</title>\n",
       "<polygon fill=\"#e58139\" fill-opacity=\"0.341176\" stroke=\"#000000\" points=\"597.3824,-234 489.2769,-234 489.2769,-170 597.3824,-170 597.3824,-234\"/>\n",
       "<text text-anchor=\"start\" x=\"497.3032\" y=\"-218.8\" font-family=\"Times,serif\" font-size=\"14.00\" fill=\"#000000\">distance ≤ 0.107</text>\n",
       "<text text-anchor=\"start\" x=\"505.356\" y=\"-204.8\" font-family=\"Times,serif\" font-size=\"14.00\" fill=\"#000000\">mse = 71.254</text>\n",
       "<text text-anchor=\"start\" x=\"499.3301\" y=\"-190.8\" font-family=\"Times,serif\" font-size=\"14.00\" fill=\"#000000\">samples = 2229</text>\n",
       "<text text-anchor=\"start\" x=\"501.4732\" y=\"-176.8\" font-family=\"Times,serif\" font-size=\"14.00\" fill=\"#000000\">value = 30.305</text>\n",
       "</g>\n",
       "<!-- 8&#45;&gt;9 -->\n",
       "<g id=\"edge9\" class=\"edge\">\n",
       "<title>8&#45;&gt;9</title>\n",
       "<path fill=\"none\" stroke=\"#000000\" d=\"M342.4085,-202C382.2516,-202 436.6052,-202 478.7333,-202\"/>\n",
       "<polygon fill=\"#000000\" stroke=\"#000000\" points=\"478.8897,-205.5001 488.8896,-202 478.8896,-198.5001 478.8897,-205.5001\"/>\n",
       "</g>\n",
       "<!-- 12 -->\n",
       "<g id=\"node13\" class=\"node\">\n",
       "<title>12</title>\n",
       "<polygon fill=\"#e58139\" fill-opacity=\"0.643137\" stroke=\"#000000\" points=\"631.299,-125 455.3602,-125 455.3602,-61 631.299,-61 631.299,-125\"/>\n",
       "<text text-anchor=\"start\" x=\"463.5952\" y=\"-109.8\" font-family=\"Times,serif\" font-size=\"14.00\" fill=\"#000000\">dropoff_longitude ≤ &#45;74.148</text>\n",
       "<text text-anchor=\"start\" x=\"501.856\" y=\"-95.8\" font-family=\"Times,serif\" font-size=\"14.00\" fill=\"#000000\">mse = 179.122</text>\n",
       "<text text-anchor=\"start\" x=\"502.8301\" y=\"-81.8\" font-family=\"Times,serif\" font-size=\"14.00\" fill=\"#000000\">samples = 793</text>\n",
       "<text text-anchor=\"start\" x=\"501.4732\" y=\"-67.8\" font-family=\"Times,serif\" font-size=\"14.00\" fill=\"#000000\">value = 51.004</text>\n",
       "</g>\n",
       "<!-- 8&#45;&gt;12 -->\n",
       "<g id=\"edge12\" class=\"edge\">\n",
       "<title>8&#45;&gt;12</title>\n",
       "<path fill=\"none\" stroke=\"#000000\" d=\"M342.4085,-178.8839C376.1024,-164.4814 420.1736,-145.6432 458.4526,-129.2808\"/>\n",
       "<polygon fill=\"#000000\" stroke=\"#000000\" points=\"460.2304,-132.3273 468.0499,-125.1784 457.479,-125.8906 460.2304,-132.3273\"/>\n",
       "</g>\n",
       "<!-- 10 -->\n",
       "<g id=\"node11\" class=\"node\">\n",
       "<title>10</title>\n",
       "<polygon fill=\"#e58139\" fill-opacity=\"0.282353\" stroke=\"#000000\" points=\"848.0429,-254 748.6163,-254 748.6163,-204 848.0429,-204 848.0429,-254\"/>\n",
       "<text text-anchor=\"start\" x=\"760.356\" y=\"-238.8\" font-family=\"Times,serif\" font-size=\"14.00\" fill=\"#000000\">mse = 44.804</text>\n",
       "<text text-anchor=\"start\" x=\"757.8301\" y=\"-224.8\" font-family=\"Times,serif\" font-size=\"14.00\" fill=\"#000000\">samples = 868</text>\n",
       "<text text-anchor=\"start\" x=\"756.4732\" y=\"-210.8\" font-family=\"Times,serif\" font-size=\"14.00\" fill=\"#000000\">value = 25.996</text>\n",
       "</g>\n",
       "<!-- 9&#45;&gt;10 -->\n",
       "<g id=\"edge10\" class=\"edge\">\n",
       "<title>9&#45;&gt;10</title>\n",
       "<path fill=\"none\" stroke=\"#000000\" d=\"M597.4085,-207.726C638.6893,-212.0969 695.5467,-218.1171 738.2447,-222.6381\"/>\n",
       "<polygon fill=\"#000000\" stroke=\"#000000\" points=\"737.9126,-226.1224 748.2256,-223.6949 738.6497,-219.1613 737.9126,-226.1224\"/>\n",
       "</g>\n",
       "<!-- 11 -->\n",
       "<g id=\"node12\" class=\"node\">\n",
       "<title>11</title>\n",
       "<polygon fill=\"#e58139\" fill-opacity=\"0.384314\" stroke=\"#000000\" points=\"850.3286,-186 746.3306,-186 746.3306,-136 850.3286,-136 850.3286,-186\"/>\n",
       "<text text-anchor=\"start\" x=\"760.356\" y=\"-170.8\" font-family=\"Times,serif\" font-size=\"14.00\" fill=\"#000000\">mse = 68.735</text>\n",
       "<text text-anchor=\"start\" x=\"754.3301\" y=\"-156.8\" font-family=\"Times,serif\" font-size=\"14.00\" fill=\"#000000\">samples = 1361</text>\n",
       "<text text-anchor=\"start\" x=\"756.4732\" y=\"-142.8\" font-family=\"Times,serif\" font-size=\"14.00\" fill=\"#000000\">value = 33.053</text>\n",
       "</g>\n",
       "<!-- 9&#45;&gt;11 -->\n",
       "<g id=\"edge11\" class=\"edge\">\n",
       "<title>9&#45;&gt;11</title>\n",
       "<path fill=\"none\" stroke=\"#000000\" d=\"M597.4085,-193.305C638.0125,-186.7765 693.6867,-177.8249 736.1335,-171.0002\"/>\n",
       "<polygon fill=\"#000000\" stroke=\"#000000\" points=\"736.7551,-174.4453 746.0727,-169.4021 735.6438,-167.534 736.7551,-174.4453\"/>\n",
       "</g>\n",
       "<!-- 13 -->\n",
       "<g id=\"node14\" class=\"node\">\n",
       "<title>13</title>\n",
       "<polygon fill=\"#e58139\" stroke=\"#000000\" points=\"848.0429,-118 748.6163,-118 748.6163,-68 848.0429,-68 848.0429,-118\"/>\n",
       "<text text-anchor=\"start\" x=\"756.856\" y=\"-102.8\" font-family=\"Times,serif\" font-size=\"14.00\" fill=\"#000000\">mse = 504.413</text>\n",
       "<text text-anchor=\"start\" x=\"761.3301\" y=\"-88.8\" font-family=\"Times,serif\" font-size=\"14.00\" fill=\"#000000\">samples = 49</text>\n",
       "<text text-anchor=\"start\" x=\"756.4732\" y=\"-74.8\" font-family=\"Times,serif\" font-size=\"14.00\" fill=\"#000000\">value = 75.921</text>\n",
       "</g>\n",
       "<!-- 12&#45;&gt;13 -->\n",
       "<g id=\"edge13\" class=\"edge\">\n",
       "<title>12&#45;&gt;13</title>\n",
       "<path fill=\"none\" stroke=\"#000000\" d=\"M631.0861,-93C666.4456,-93 706.3364,-93 738.2886,-93\"/>\n",
       "<polygon fill=\"#000000\" stroke=\"#000000\" points=\"738.368,-96.5001 748.368,-93 738.368,-89.5001 738.368,-96.5001\"/>\n",
       "</g>\n",
       "<!-- 14 -->\n",
       "<g id=\"node15\" class=\"node\">\n",
       "<title>14</title>\n",
       "<polygon fill=\"#e58139\" fill-opacity=\"0.615686\" stroke=\"#000000\" points=\"848.0429,-50 748.6163,-50 748.6163,0 848.0429,0 848.0429,-50\"/>\n",
       "<text text-anchor=\"start\" x=\"757.3687\" y=\"-34.8\" font-family=\"Times,serif\" font-size=\"14.00\" fill=\"#000000\">mse = 114.113</text>\n",
       "<text text-anchor=\"start\" x=\"757.8301\" y=\"-20.8\" font-family=\"Times,serif\" font-size=\"14.00\" fill=\"#000000\">samples = 744</text>\n",
       "<text text-anchor=\"start\" x=\"756.4732\" y=\"-6.8\" font-family=\"Times,serif\" font-size=\"14.00\" fill=\"#000000\">value = 49.363</text>\n",
       "</g>\n",
       "<!-- 12&#45;&gt;14 -->\n",
       "<g id=\"edge14\" class=\"edge\">\n",
       "<title>12&#45;&gt;14</title>\n",
       "<path fill=\"none\" stroke=\"#000000\" d=\"M631.0861,-69.5983C666.5987,-60.1282 706.6818,-49.4394 738.7032,-40.9004\"/>\n",
       "<polygon fill=\"#000000\" stroke=\"#000000\" points=\"739.6075,-44.2816 748.368,-38.3231 737.8038,-37.518 739.6075,-44.2816\"/>\n",
       "</g>\n",
       "</g>\n",
       "</svg>\n"
      ],
      "text/plain": [
       "<graphviz.files.Source at 0x109450b00>"
      ]
     },
     "metadata": {},
     "output_type": "display_data"
    }
   ],
   "source": [
    "draw_tree(m.estimators_[0], X_train, precision=3)"
   ]
  },
  {
   "cell_type": "markdown",
   "metadata": {},
   "source": [
    "That's not a bad $R^2$!\n",
    "\n",
    "Most of our splits so far are on distance, telling us that from the data available, distance appears to be by some margin the most predictive of the features available. Engineering that feature appears to have been a good decision. While the RF would have made an insight along these lines by splitting on locations instead, having the distance feature available reduces the number of splits necessary.\n",
    "\n",
    "To draw more complex insights, if they exist, we would have to do some more feature engineering."
   ]
  },
  {
   "cell_type": "markdown",
   "metadata": {},
   "source": [
    "#### Bagged Trees\n",
    "\n",
    "First, let's go back to our baseline model, which is a forest of randomly bagged trees."
   ]
  },
  {
   "cell_type": "code",
   "execution_count": 34,
   "metadata": {},
   "outputs": [
    {
     "name": "stdout",
     "output_type": "stream",
     "text": [
      "[1.8561232736719049, 4.573009694379645, 0.9622284402371043, 0.7804448931041325]\n"
     ]
    }
   ],
   "source": [
    "m = RandomForestRegressor(n_jobs=-1)\n",
    "m.fit(X_train, y_train)\n",
    "print_score(m)"
   ]
  },
  {
   "cell_type": "code",
   "execution_count": 35,
   "metadata": {},
   "outputs": [
    {
     "data": {
      "text/plain": [
       "9.0"
      ]
     },
     "execution_count": 35,
     "metadata": {},
     "output_type": "execute_result"
    }
   ],
   "source": [
    "y_valid.values[0]"
   ]
  },
  {
   "cell_type": "code",
   "execution_count": 36,
   "metadata": {},
   "outputs": [
    {
     "data": {
      "text/plain": [
       "(array([7.7, 7.3, 7.7, 8.7, 9.5, 8.5, 7.5, 7.3, 9.5, 8. ]), 8.169999999999998)"
      ]
     },
     "execution_count": 36,
     "metadata": {},
     "output_type": "execute_result"
    }
   ],
   "source": [
    "preds = np.stack([t.predict(X_valid) for t in m.estimators_])\n",
    "preds[:,0], np.mean(preds[:,0])"
   ]
  },
  {
   "cell_type": "markdown",
   "metadata": {},
   "source": [
    "Each of our 10 trees – `sklearn` calls them etimators – makes its own (not great) prediction. The mean of these predictions, however, is close to much closer to our known fare value of 9.0 than the individual predictions themselves. This averaging of trees is called bagging."
   ]
  },
  {
   "cell_type": "code",
   "execution_count": 37,
   "metadata": {},
   "outputs": [
    {
     "data": {
      "text/plain": [
       "(10, 9914)"
      ]
     },
     "execution_count": 37,
     "metadata": {},
     "output_type": "execute_result"
    }
   ],
   "source": [
    "preds.shape"
   ]
  },
  {
   "cell_type": "code",
   "execution_count": 38,
   "metadata": {},
   "outputs": [
    {
     "data": {
      "image/png": "[encoded data removed]",
      "text/plain": [
       "<Figure size 432x288 with 1 Axes>"
      ]
     },
     "metadata": {},
     "output_type": "display_data"
    }
   ],
   "source": [
    "plt.plot([metrics.r2_score(y_valid, np.mean(preds[:i+1], axis=0)) for i in range(10)]);"
   ]
  },
  {
   "cell_type": "markdown",
   "metadata": {},
   "source": [
    "This plot suggests that increasing the number of trees beyond 8 or 10 won't help us much. Let's take a look for ourselves."
   ]
  },
  {
   "cell_type": "code",
   "execution_count": 39,
   "metadata": {},
   "outputs": [
    {
     "name": "stdout",
     "output_type": "stream",
     "text": [
      "[1.7335042562722924, 4.4641313876770345, 0.9670541200795085, 0.7907751642169678]\n"
     ]
    }
   ],
   "source": [
    "m = RandomForestRegressor(n_estimators=20, n_jobs=-1)\n",
    "m.fit(X_train, y_train)\n",
    "print_score(m)"
   ]
  },
  {
   "cell_type": "code",
   "execution_count": 40,
   "metadata": {},
   "outputs": [
    {
     "name": "stdout",
     "output_type": "stream",
     "text": [
      "[1.6415857162092347, 4.43636226636567, 0.9704553795111822, 0.7933700337794876]\n"
     ]
    }
   ],
   "source": [
    "m = RandomForestRegressor(n_estimators=40, n_jobs=-1)\n",
    "m.fit(X_train, y_train)\n",
    "print_score(m)"
   ]
  },
  {
   "cell_type": "code",
   "execution_count": 41,
   "metadata": {},
   "outputs": [
    {
     "name": "stdout",
     "output_type": "stream",
     "text": [
      "[1.6346446494664215, 4.440475391424619, 0.9707046965374869, 0.7929867067081869]\n"
     ]
    }
   ],
   "source": [
    "m = RandomForestRegressor(n_estimators=100, n_jobs=-1)\n",
    "m.fit(X_train, y_train)\n",
    "print_score(m)"
   ]
  },
  {
   "cell_type": "markdown",
   "metadata": {},
   "source": [
    "That last jump from 40 to 100 estimators made almost no difference for the accuracy of our model.\n",
    "\n",
    "**NOTE**: You may see slightly different numbers when you run this. That's a lesson to me not to randomize how I sample my data. While not always the case, you will likely see some small increase in R^2 as you increase `n_estimators`"
   ]
  },
  {
   "cell_type": "markdown",
   "metadata": {},
   "source": [
    "### Engineering Datetime Features"
   ]
  },
  {
   "cell_type": "markdown",
   "metadata": {},
   "source": [
    "One of our fields is the pickup_datetime. You may have noticed that I removed this from the dataset before passing it to our model. I shall now train the same RF with the pickup_datetime. Then, I'll engineer some features from the information that this field provides us to see if that improves the model even further."
   ]
  },
  {
   "cell_type": "code",
   "execution_count": 42,
   "metadata": {},
   "outputs": [
    {
     "data": {
      "text/plain": [
       "((532710, 9), (532710,), (9914, 9), (9914,))"
      ]
     },
     "execution_count": 42,
     "metadata": {},
     "output_type": "execute_result"
    }
   ],
   "source": [
    "X_train = df_raw.drop(['key', 'fare_amount'], axis=1)\n",
    "y_train = df_raw.fare_amount\n",
    "\n",
    "n_valid = 9914  # same as Kaggle's test set size\n",
    "n_trn = len(X_train)-n_valid\n",
    "raw_train, raw_valid = split_vals(df_raw, n_trn)\n",
    "X_train, X_valid = split_vals(X_train, n_trn)\n",
    "y_train, y_valid = split_vals(y_train, n_trn)\n",
    "\n",
    "# We should now have 9 cols instead of our earlier 8.\n",
    "X_train.shape, y_train.shape, X_valid.shape, y_valid.shape"
   ]
  },
  {
   "cell_type": "code",
   "execution_count": 43,
   "metadata": {},
   "outputs": [
    {
     "data": {
      "text/plain": [
       "((40000, 9), (40000,))"
      ]
     },
     "execution_count": 43,
     "metadata": {},
     "output_type": "execute_result"
    }
   ],
   "source": [
    "raw_train = raw_train.sample(40000)\n",
    "X_train = raw_train.drop(['key', 'fare_amount'], axis=1)\n",
    "y_train = raw_train.fare_amount\n",
    "\n",
    "X_train.shape, y_train.shape"
   ]
  },
  {
   "cell_type": "code",
   "execution_count": 44,
   "metadata": {},
   "outputs": [
    {
     "ename": "ValueError",
     "evalue": "could not convert string to float: '2011-02-16 09:27:55 UTC'",
     "output_type": "error",
     "traceback": [
      "\u001b[0;31m---------------------------------------------------------------------------\u001b[0m",
      "\u001b[0;31mValueError\u001b[0m                                Traceback (most recent call last)",
      "\u001b[0;32m<ipython-input-44-45f4e6266f39>\u001b[0m in \u001b[0;36m<module>\u001b[0;34m()\u001b[0m\n\u001b[1;32m      1\u001b[0m \u001b[0mm\u001b[0m \u001b[0;34m=\u001b[0m \u001b[0mRandomForestRegressor\u001b[0m\u001b[0;34m(\u001b[0m\u001b[0mn_jobs\u001b[0m\u001b[0;34m=\u001b[0m\u001b[0;34m-\u001b[0m\u001b[0;36m1\u001b[0m\u001b[0;34m)\u001b[0m\u001b[0;34m\u001b[0m\u001b[0m\n\u001b[0;32m----> 2\u001b[0;31m \u001b[0mm\u001b[0m\u001b[0;34m.\u001b[0m\u001b[0mfit\u001b[0m\u001b[0;34m(\u001b[0m\u001b[0mX_train\u001b[0m\u001b[0;34m,\u001b[0m \u001b[0my_train\u001b[0m\u001b[0;34m)\u001b[0m\u001b[0;34m\u001b[0m\u001b[0m\n\u001b[0m\u001b[1;32m      3\u001b[0m \u001b[0mprint_score\u001b[0m\u001b[0;34m(\u001b[0m\u001b[0mm\u001b[0m\u001b[0;34m)\u001b[0m\u001b[0;34m\u001b[0m\u001b[0m\n",
      "\u001b[0;32m~/anaconda3/lib/python3.6/site-packages/sklearn/ensemble/forest.py\u001b[0m in \u001b[0;36mfit\u001b[0;34m(self, X, y, sample_weight)\u001b[0m\n\u001b[1;32m    245\u001b[0m         \"\"\"\n\u001b[1;32m    246\u001b[0m         \u001b[0;31m# Validate or convert input data\u001b[0m\u001b[0;34m\u001b[0m\u001b[0;34m\u001b[0m\u001b[0m\n\u001b[0;32m--> 247\u001b[0;31m         \u001b[0mX\u001b[0m \u001b[0;34m=\u001b[0m \u001b[0mcheck_array\u001b[0m\u001b[0;34m(\u001b[0m\u001b[0mX\u001b[0m\u001b[0;34m,\u001b[0m \u001b[0maccept_sparse\u001b[0m\u001b[0;34m=\u001b[0m\u001b[0;34m\"csc\"\u001b[0m\u001b[0;34m,\u001b[0m \u001b[0mdtype\u001b[0m\u001b[0;34m=\u001b[0m\u001b[0mDTYPE\u001b[0m\u001b[0;34m)\u001b[0m\u001b[0;34m\u001b[0m\u001b[0m\n\u001b[0m\u001b[1;32m    248\u001b[0m         \u001b[0my\u001b[0m \u001b[0;34m=\u001b[0m \u001b[0mcheck_array\u001b[0m\u001b[0;34m(\u001b[0m\u001b[0my\u001b[0m\u001b[0;34m,\u001b[0m \u001b[0maccept_sparse\u001b[0m\u001b[0;34m=\u001b[0m\u001b[0;34m'csc'\u001b[0m\u001b[0;34m,\u001b[0m \u001b[0mensure_2d\u001b[0m\u001b[0;34m=\u001b[0m\u001b[0;32mFalse\u001b[0m\u001b[0;34m,\u001b[0m \u001b[0mdtype\u001b[0m\u001b[0;34m=\u001b[0m\u001b[0;32mNone\u001b[0m\u001b[0;34m)\u001b[0m\u001b[0;34m\u001b[0m\u001b[0m\n\u001b[1;32m    249\u001b[0m         \u001b[0;32mif\u001b[0m \u001b[0msample_weight\u001b[0m \u001b[0;32mis\u001b[0m \u001b[0;32mnot\u001b[0m \u001b[0;32mNone\u001b[0m\u001b[0;34m:\u001b[0m\u001b[0;34m\u001b[0m\u001b[0m\n",
      "\u001b[0;32m~/anaconda3/lib/python3.6/site-packages/sklearn/utils/validation.py\u001b[0m in \u001b[0;36mcheck_array\u001b[0;34m(array, accept_sparse, dtype, order, copy, force_all_finite, ensure_2d, allow_nd, ensure_min_samples, ensure_min_features, warn_on_dtype, estimator)\u001b[0m\n\u001b[1;32m    431\u001b[0m                                       force_all_finite)\n\u001b[1;32m    432\u001b[0m     \u001b[0;32melse\u001b[0m\u001b[0;34m:\u001b[0m\u001b[0;34m\u001b[0m\u001b[0m\n\u001b[0;32m--> 433\u001b[0;31m         \u001b[0marray\u001b[0m \u001b[0;34m=\u001b[0m \u001b[0mnp\u001b[0m\u001b[0;34m.\u001b[0m\u001b[0marray\u001b[0m\u001b[0;34m(\u001b[0m\u001b[0marray\u001b[0m\u001b[0;34m,\u001b[0m \u001b[0mdtype\u001b[0m\u001b[0;34m=\u001b[0m\u001b[0mdtype\u001b[0m\u001b[0;34m,\u001b[0m \u001b[0morder\u001b[0m\u001b[0;34m=\u001b[0m\u001b[0morder\u001b[0m\u001b[0;34m,\u001b[0m \u001b[0mcopy\u001b[0m\u001b[0;34m=\u001b[0m\u001b[0mcopy\u001b[0m\u001b[0;34m)\u001b[0m\u001b[0;34m\u001b[0m\u001b[0m\n\u001b[0m\u001b[1;32m    434\u001b[0m \u001b[0;34m\u001b[0m\u001b[0m\n\u001b[1;32m    435\u001b[0m         \u001b[0;32mif\u001b[0m \u001b[0mensure_2d\u001b[0m\u001b[0;34m:\u001b[0m\u001b[0;34m\u001b[0m\u001b[0m\n",
      "\u001b[0;31mValueError\u001b[0m: could not convert string to float: '2011-02-16 09:27:55 UTC'"
     ]
    }
   ],
   "source": [
    "m = RandomForestRegressor(n_jobs=-1)\n",
    "m.fit(X_train, y_train)\n",
    "print_score(m)"
   ]
  },
  {
   "cell_type": "markdown",
   "metadata": {},
   "source": [
    "We realize now that, in fact, the Random Forest cannot even use the `pickup_datetime` field in this form since it is a string. This field is of no use to us without some feature engineering. Let's do that and then remove the pickup_datetime field from our dataset."
   ]
  },
  {
   "cell_type": "code",
   "execution_count": 45,
   "metadata": {},
   "outputs": [],
   "source": [
    "def add_datetime_features(df):\n",
    "    \n",
    "    year = lambda x: datetime.strptime(x, \"%Y-%m-%d %H:%M:%S %Z\" ).year\n",
    "    df['year'] = df['pickup_datetime'].map(year)\n",
    "    print('1/7')\n",
    "    \n",
    "    hour = lambda x: datetime.strptime(x, \"%Y-%m-%d %H:%M:%S %Z\" ).hour\n",
    "    df['hour'] = df['pickup_datetime'].map(hour)\n",
    "    print('2/7')\n",
    "\n",
    "    day_of_week = lambda x: datetime.strptime(x, \"%Y-%m-%d %H:%M:%S %Z\" ).weekday()\n",
    "    df['day_of_week'] = df['pickup_datetime'].map(day_of_week)\n",
    "    print('3/7')\n",
    "\n",
    "    month = lambda x: datetime.strptime(x, \"%Y-%m-%d %H:%M:%S %Z\" ).month\n",
    "    df['month'] = df['pickup_datetime'].map(month)\n",
    "    print('4/7')\n",
    "\n",
    "    week_number = lambda x: datetime.strptime(x, \"%Y-%m-%d %H:%M:%S %Z\" ).strftime('%V')\n",
    "    df['week_number'] = df['pickup_datetime'].map(week_number)\n",
    "    print('5/7')\n",
    "    \n",
    "    seasons = [0,0,1,1,1,2,2,2,3,3,3,0] #dec - feb is winter, then spring, summer, fall etc\n",
    "    season = lambda x: seasons[(datetime.strptime(x, \"%Y-%m-%d %H:%M:%S %Z\" ).month-1)]\n",
    "    df['season'] = df['pickup_datetime'].map(season)\n",
    "    print('6/7')\n",
    "    \n",
    "    # 10pm-5am is late-night\n",
    "    late_night_hours = [1, 1, 1, 1, 1, 1, 0, 0, 0, 0, 0, 0, 0, 0, 0, 0, 0, 0, 0, 0, 0, 0, 1, 1]\n",
    "    late_night = lambda x: late_night_hours[(datetime.strptime(x, \"%Y-%m-%d %H:%M:%S %Z\" ).hour)]\n",
    "    df['late_night'] = df['pickup_datetime'].map(late_night)\n",
    "    print('7/7. All done!')\n",
    "    \n",
    "add_datetime_features(df_raw)"
   ]
  },
  {
   "cell_type": "code",
   "execution_count": 46,
   "metadata": {},
   "outputs": [
    {
     "data": {
      "text/html": [
       "<div>\n",
       "<style scoped>\n",
       "    .dataframe tbody tr th:only-of-type {\n",
       "        vertical-align: middle;\n",
       "    }\n",
       "\n",
       "    .dataframe tbody tr th {\n",
       "        vertical-align: top;\n",
       "    }\n",
       "\n",
       "    .dataframe thead th {\n",
       "        text-align: right;\n",
       "    }\n",
       "</style>\n",
       "<table border=\"1\" class=\"dataframe\">\n",
       "  <thead>\n",
       "    <tr style=\"text-align: right;\">\n",
       "      <th></th>\n",
       "      <th>key</th>\n",
       "      <th>fare_amount</th>\n",
       "      <th>pickup_datetime</th>\n",
       "      <th>pickup_longitude</th>\n",
       "      <th>pickup_latitude</th>\n",
       "      <th>dropoff_longitude</th>\n",
       "      <th>dropoff_latitude</th>\n",
       "      <th>passenger_count</th>\n",
       "      <th>abs_diff_longitude</th>\n",
       "      <th>abs_diff_latitude</th>\n",
       "      <th>distance</th>\n",
       "      <th>year</th>\n",
       "      <th>hour</th>\n",
       "      <th>day_of_week</th>\n",
       "      <th>month</th>\n",
       "      <th>week_number</th>\n",
       "      <th>season</th>\n",
       "      <th>late_night</th>\n",
       "    </tr>\n",
       "  </thead>\n",
       "  <tbody>\n",
       "    <tr>\n",
       "      <th>0</th>\n",
       "      <td>2011-06-09 00:53:00.00000066</td>\n",
       "      <td>5.7</td>\n",
       "      <td>2011-06-09 00:53:00 UTC</td>\n",
       "      <td>-73.983052</td>\n",
       "      <td>40.722588</td>\n",
       "      <td>-73.988022</td>\n",
       "      <td>40.733738</td>\n",
       "      <td>3</td>\n",
       "      <td>0.004970</td>\n",
       "      <td>0.011150</td>\n",
       "      <td>0.012208</td>\n",
       "      <td>2011</td>\n",
       "      <td>0</td>\n",
       "      <td>3</td>\n",
       "      <td>6</td>\n",
       "      <td>23</td>\n",
       "      <td>2</td>\n",
       "      <td>1</td>\n",
       "    </tr>\n",
       "    <tr>\n",
       "      <th>1</th>\n",
       "      <td>2013-01-05 21:36:00.000000198</td>\n",
       "      <td>5.5</td>\n",
       "      <td>2013-01-05 21:36:00 UTC</td>\n",
       "      <td>-73.989692</td>\n",
       "      <td>40.735497</td>\n",
       "      <td>-73.982012</td>\n",
       "      <td>40.739392</td>\n",
       "      <td>1</td>\n",
       "      <td>0.007680</td>\n",
       "      <td>0.003895</td>\n",
       "      <td>0.008611</td>\n",
       "      <td>2013</td>\n",
       "      <td>21</td>\n",
       "      <td>5</td>\n",
       "      <td>1</td>\n",
       "      <td>01</td>\n",
       "      <td>0</td>\n",
       "      <td>0</td>\n",
       "    </tr>\n",
       "    <tr>\n",
       "      <th>2</th>\n",
       "      <td>2015-04-18 08:29:08.0000002</td>\n",
       "      <td>11.5</td>\n",
       "      <td>2015-04-18 08:29:08 UTC</td>\n",
       "      <td>-73.955116</td>\n",
       "      <td>40.768990</td>\n",
       "      <td>-73.984238</td>\n",
       "      <td>40.748440</td>\n",
       "      <td>1</td>\n",
       "      <td>0.029121</td>\n",
       "      <td>0.020550</td>\n",
       "      <td>0.035642</td>\n",
       "      <td>2015</td>\n",
       "      <td>8</td>\n",
       "      <td>5</td>\n",
       "      <td>4</td>\n",
       "      <td>16</td>\n",
       "      <td>1</td>\n",
       "      <td>0</td>\n",
       "    </tr>\n",
       "    <tr>\n",
       "      <th>3</th>\n",
       "      <td>2009-09-02 05:18:10.0000001</td>\n",
       "      <td>25.7</td>\n",
       "      <td>2009-09-02 05:18:10 UTC</td>\n",
       "      <td>-73.991729</td>\n",
       "      <td>40.760501</td>\n",
       "      <td>-73.861246</td>\n",
       "      <td>40.767619</td>\n",
       "      <td>1</td>\n",
       "      <td>0.130483</td>\n",
       "      <td>0.007118</td>\n",
       "      <td>0.130677</td>\n",
       "      <td>2009</td>\n",
       "      <td>5</td>\n",
       "      <td>2</td>\n",
       "      <td>9</td>\n",
       "      <td>36</td>\n",
       "      <td>3</td>\n",
       "      <td>1</td>\n",
       "    </tr>\n",
       "    <tr>\n",
       "      <th>4</th>\n",
       "      <td>2012-11-30 11:02:00.000000111</td>\n",
       "      <td>38.8</td>\n",
       "      <td>2012-11-30 11:02:00 UTC</td>\n",
       "      <td>-73.974620</td>\n",
       "      <td>40.756922</td>\n",
       "      <td>-73.864002</td>\n",
       "      <td>40.767872</td>\n",
       "      <td>1</td>\n",
       "      <td>0.110618</td>\n",
       "      <td>0.010950</td>\n",
       "      <td>0.111159</td>\n",
       "      <td>2012</td>\n",
       "      <td>11</td>\n",
       "      <td>4</td>\n",
       "      <td>11</td>\n",
       "      <td>48</td>\n",
       "      <td>3</td>\n",
       "      <td>0</td>\n",
       "    </tr>\n",
       "  </tbody>\n",
       "</table>\n",
       "</div>"
      ],
      "text/plain": [
       "                             key  fare_amount          pickup_datetime  \\\n",
       "0   2011-06-09 00:53:00.00000066          5.7  2011-06-09 00:53:00 UTC   \n",
       "1  2013-01-05 21:36:00.000000198          5.5  2013-01-05 21:36:00 UTC   \n",
       "2    2015-04-18 08:29:08.0000002         11.5  2015-04-18 08:29:08 UTC   \n",
       "3    2009-09-02 05:18:10.0000001         25.7  2009-09-02 05:18:10 UTC   \n",
       "4  2012-11-30 11:02:00.000000111         38.8  2012-11-30 11:02:00 UTC   \n",
       "\n",
       "   pickup_longitude  pickup_latitude  dropoff_longitude  dropoff_latitude  \\\n",
       "0        -73.983052        40.722588         -73.988022         40.733738   \n",
       "1        -73.989692        40.735497         -73.982012         40.739392   \n",
       "2        -73.955116        40.768990         -73.984238         40.748440   \n",
       "3        -73.991729        40.760501         -73.861246         40.767619   \n",
       "4        -73.974620        40.756922         -73.864002         40.767872   \n",
       "\n",
       "   passenger_count  abs_diff_longitude  abs_diff_latitude  distance  year  \\\n",
       "0                3            0.004970           0.011150  0.012208  2011   \n",
       "1                1            0.007680           0.003895  0.008611  2013   \n",
       "2                1            0.029121           0.020550  0.035642  2015   \n",
       "3                1            0.130483           0.007118  0.130677  2009   \n",
       "4                1            0.110618           0.010950  0.111159  2012   \n",
       "\n",
       "   hour  day_of_week  month week_number  season  late_night  \n",
       "0     0            3      6          23       2           1  \n",
       "1    21            5      1          01       0           0  \n",
       "2     8            5      4          16       1           0  \n",
       "3     5            2      9          36       3           1  \n",
       "4    11            4     11          48       3           0  "
      ]
     },
     "execution_count": 46,
     "metadata": {},
     "output_type": "execute_result"
    }
   ],
   "source": [
    "df_raw.head()"
   ]
  },
  {
   "cell_type": "code",
   "execution_count": 51,
   "metadata": {},
   "outputs": [
    {
     "data": {
      "text/plain": [
       "((532710, 15), (532710,), (9914, 15), (9914,))"
      ]
     },
     "execution_count": 51,
     "metadata": {},
     "output_type": "execute_result"
    }
   ],
   "source": [
    "X_train = df_raw.drop(['key', 'fare_amount', 'pickup_datetime'], axis=1)\n",
    "y_train = df_raw.fare_amount\n",
    "\n",
    "X_train, X_valid = split_vals(X_train, n_trn)\n",
    "y_train, y_valid = split_vals(y_train, n_trn)\n",
    "\n",
    "X_train.shape, y_train.shape, X_valid.shape, y_valid.shape"
   ]
  },
  {
   "cell_type": "code",
   "execution_count": 52,
   "metadata": {},
   "outputs": [],
   "source": [
    "df_sub = df_raw.sample(40000)"
   ]
  },
  {
   "cell_type": "code",
   "execution_count": 53,
   "metadata": {},
   "outputs": [
    {
     "data": {
      "text/plain": [
       "((40000, 15), (40000,), (9914, 15), (9914,))"
      ]
     },
     "execution_count": 53,
     "metadata": {},
     "output_type": "execute_result"
    }
   ],
   "source": [
    "X_train = df_sub.drop(['key', 'pickup_datetime', 'fare_amount'], axis=1)\n",
    "y_train = df_sub.fare_amount\n",
    "\n",
    "X_train.shape, y_train.shape, X_valid.shape, y_valid.shape"
   ]
  },
  {
   "cell_type": "code",
   "execution_count": 54,
   "metadata": {},
   "outputs": [
    {
     "name": "stdout",
     "output_type": "stream",
     "text": [
      "[1.765507337615714, 4.058400254780291, 0.9664775452961585, 0.8270784768108196]\n"
     ]
    }
   ],
   "source": [
    "m = RandomForestRegressor(n_jobs=-1)\n",
    "m.fit(X_train, y_train)\n",
    "print_score(m)"
   ]
  },
  {
   "cell_type": "code",
   "execution_count": 55,
   "metadata": {},
   "outputs": [
    {
     "name": "stdout",
     "output_type": "stream",
     "text": [
      "[1.5952265228379334, 3.8937062035250634, 0.972632099488485, 0.8408283723104502]\n"
     ]
    }
   ],
   "source": [
    "m = RandomForestRegressor(n_estimators=40, n_jobs=-1)\n",
    "m.fit(X_train, y_train)\n",
    "print_score(m)"
   ]
  },
  {
   "cell_type": "markdown",
   "metadata": {},
   "source": [
    "While we're doing noticeably better in terms of validation R^2, our biggest problem is still that we're overfitting drastically on the training data. The model simply isn't generalizing. "
   ]
  },
  {
   "cell_type": "markdown",
   "metadata": {},
   "source": [
    "I borrowed a function called `set_rf_samples` from the fastai library to help combat this. Instead of sampling our training data up-front like scikit-learn does and then averaging together several `estimators` trained on that data, we could choose a different random subsample for each tree. This way, they don't have the opportunity to fit the whole training set as closely."
   ]
  },
  {
   "cell_type": "code",
   "execution_count": 63,
   "metadata": {},
   "outputs": [],
   "source": [
    "def set_rf_samples(n):\n",
    "    \"\"\" Changes Scikit learn's random forests to give each tree a random sample of\n",
    "    n random rows.\n",
    "    \"\"\"\n",
    "    forest._generate_sample_indices = (lambda rs, n_samples:\n",
    "        forest.check_random_state(rs).randint(0, n_samples, n))"
   ]
  },
  {
   "cell_type": "code",
   "execution_count": 64,
   "metadata": {},
   "outputs": [],
   "source": [
    "def reset_rf_samples():\n",
    "    \"\"\" Undoes the changes produced by set_rf_samples.\n",
    "    \"\"\"\n",
    "    forest._generate_sample_indices = (lambda rs, n_samples:\n",
    "        forest.check_random_state(rs).randint(0, n_samples, n_samples))"
   ]
  },
  {
   "cell_type": "code",
   "execution_count": 65,
   "metadata": {},
   "outputs": [
    {
     "data": {
      "text/plain": [
       "(542624, 18)"
      ]
     },
     "execution_count": 65,
     "metadata": {},
     "output_type": "execute_result"
    }
   ],
   "source": [
    "df_raw.shape"
   ]
  },
  {
   "cell_type": "markdown",
   "metadata": {},
   "source": [
    "We'll have to return to our full dataset to see this technique in action."
   ]
  },
  {
   "cell_type": "code",
   "execution_count": 66,
   "metadata": {},
   "outputs": [
    {
     "data": {
      "text/plain": [
       "((532710, 15), (532710,), (9914, 15), (9914,))"
      ]
     },
     "execution_count": 66,
     "metadata": {},
     "output_type": "execute_result"
    }
   ],
   "source": [
    "X_train = df_raw.drop(['key', 'fare_amount', 'pickup_datetime'], axis=1)\n",
    "y_train = df_raw.fare_amount\n",
    "\n",
    "X_train, X_valid = split_vals(X_train, n_trn)\n",
    "y_train, y_valid = split_vals(y_train, n_trn)\n",
    "\n",
    "X_train.shape, y_train.shape, X_valid.shape, y_valid.shape"
   ]
  },
  {
   "cell_type": "code",
   "execution_count": 67,
   "metadata": {},
   "outputs": [],
   "source": [
    "set_rf_samples(20000)"
   ]
  },
  {
   "cell_type": "code",
   "execution_count": 68,
   "metadata": {},
   "outputs": [
    {
     "name": "stdout",
     "output_type": "stream",
     "text": [
      "CPU times: user 6.35 s, sys: 185 ms, total: 6.54 s\n",
      "Wall time: 2.49 s\n",
      "[3.996085334468876, 3.982833548118649, 0.8283903034091028, 0.8334580626318661]\n"
     ]
    }
   ],
   "source": [
    "m = RandomForestRegressor(n_jobs=-1)\n",
    "%time m.fit(X_train, y_train)\n",
    "print_score(m)"
   ]
  },
  {
   "cell_type": "code",
   "execution_count": 69,
   "metadata": {},
   "outputs": [
    {
     "name": "stdout",
     "output_type": "stream",
     "text": [
      "[3.838199788375962, 3.8684648817382583, 0.8416830297133465, 0.8428853737869085]\n"
     ]
    }
   ],
   "source": [
    "m = RandomForestRegressor(n_estimators=40, n_jobs=-1)\n",
    "m.fit(X_train, y_train)\n",
    "print_score(m)"
   ]
  },
  {
   "cell_type": "markdown",
   "metadata": {},
   "source": [
    "You'll notice that our model performs about the same on the training and validation data now, a sign isn't overfit and that it generalizes well to new observations. What's more, we didn't lose any predictive power in the process and still have an R^2 of 0.84"
   ]
  },
  {
   "cell_type": "markdown",
   "metadata": {},
   "source": [
    "However, the most impressive part is that we did all this without any hyperparameter tuning! A `RandomForestRegressor` with all the defaults (coupled with a few techniques to ensure our model generalizes and some feature engineering) can predict the fare of a taxi using not much more than pickup and dropoff locations and pickup time. It does so with an RMSE of less than 4 dollars, which is not too bad considering our mean fare amount is over 11 dollars."
   ]
  },
  {
   "cell_type": "markdown",
   "metadata": {},
   "source": [
    "A real-world model to do something like that is likely to gain a fair bit of predictive accuracy from access to real time traffic flow and routing information. While walking through the hyperparameter tuning process is beyond the scope of this notebook, suffice it to say for now that tweaking some of these defaults can increase performance a little. I will however change the number of subsamples we choose for each tree to see if that helps our accuracy."
   ]
  },
  {
   "cell_type": "code",
   "execution_count": 70,
   "metadata": {},
   "outputs": [],
   "source": [
    "set_rf_samples(50000)"
   ]
  },
  {
   "cell_type": "code",
   "execution_count": 71,
   "metadata": {},
   "outputs": [
    {
     "name": "stdout",
     "output_type": "stream",
     "text": [
      "CPU times: user 15.8 s, sys: 217 ms, total: 16 s\n",
      "Wall time: 5.17 s\n",
      "[3.7128836380943255, 3.8590700644136624, 0.8518522728083817, 0.8436475732121813]\n"
     ]
    }
   ],
   "source": [
    "m = RandomForestRegressor(n_jobs=-1)\n",
    "%time m.fit(X_train, y_train)\n",
    "print_score(m)"
   ]
  },
  {
   "cell_type": "markdown",
   "metadata": {},
   "source": [
    "It did! This process might seem like a bit of trial and error, and it is. That said, if you're interested, `sklearn.model_selection.RandomizedSearchCV` and `sklearn.model_Selection.GridSearchCV` are useful tools to help automate this process to varying degrees (possibly at the cost of extra computational expense)."
   ]
  },
  {
   "cell_type": "code",
   "execution_count": 80,
   "metadata": {},
   "outputs": [
    {
     "name": "stdout",
     "output_type": "stream",
     "text": [
      "CPU times: user 1min 12s, sys: 945 ms, total: 1min 13s\n",
      "Wall time: 26.2 s\n",
      "[3.5545346790370402, 3.682869200264968, 0.8642193675497111, 0.8575993771301885]\n"
     ]
    }
   ],
   "source": [
    "m = RandomForestRegressor(n_estimators=40, n_jobs=-1)\n",
    "%time m.fit(X_train, y_train)\n",
    "print_score(m)"
   ]
  },
  {
   "cell_type": "markdown",
   "metadata": {},
   "source": [
    "Having trained a model with R^2 about 0.05 greater than our baseline and a validation RMSE that's better by just over 60c, let's get predictions on the test data and write them to a submission file that meets Kaaggle's specifications for the competition."
   ]
  },
  {
   "cell_type": "code",
   "execution_count": 81,
   "metadata": {},
   "outputs": [],
   "source": [
    "test_raw = pd.read_csv(f'{PATH}test.csv')"
   ]
  },
  {
   "cell_type": "code",
   "execution_count": 82,
   "metadata": {},
   "outputs": [
    {
     "data": {
      "text/html": [
       "<div>\n",
       "<style scoped>\n",
       "    .dataframe tbody tr th:only-of-type {\n",
       "        vertical-align: middle;\n",
       "    }\n",
       "\n",
       "    .dataframe tbody tr th {\n",
       "        vertical-align: top;\n",
       "    }\n",
       "\n",
       "    .dataframe thead th {\n",
       "        text-align: right;\n",
       "    }\n",
       "</style>\n",
       "<table border=\"1\" class=\"dataframe\">\n",
       "  <thead>\n",
       "    <tr style=\"text-align: right;\">\n",
       "      <th></th>\n",
       "      <th>key</th>\n",
       "      <th>pickup_datetime</th>\n",
       "      <th>pickup_longitude</th>\n",
       "      <th>pickup_latitude</th>\n",
       "      <th>dropoff_longitude</th>\n",
       "      <th>dropoff_latitude</th>\n",
       "      <th>passenger_count</th>\n",
       "    </tr>\n",
       "  </thead>\n",
       "  <tbody>\n",
       "    <tr>\n",
       "      <th>0</th>\n",
       "      <td>2015-01-27 13:08:24.0000002</td>\n",
       "      <td>2015-01-27 13:08:24 UTC</td>\n",
       "      <td>-73.973320</td>\n",
       "      <td>40.763805</td>\n",
       "      <td>-73.981430</td>\n",
       "      <td>40.743835</td>\n",
       "      <td>1</td>\n",
       "    </tr>\n",
       "    <tr>\n",
       "      <th>1</th>\n",
       "      <td>2015-01-27 13:08:24.0000003</td>\n",
       "      <td>2015-01-27 13:08:24 UTC</td>\n",
       "      <td>-73.986862</td>\n",
       "      <td>40.719383</td>\n",
       "      <td>-73.998886</td>\n",
       "      <td>40.739201</td>\n",
       "      <td>1</td>\n",
       "    </tr>\n",
       "    <tr>\n",
       "      <th>2</th>\n",
       "      <td>2011-10-08 11:53:44.0000002</td>\n",
       "      <td>2011-10-08 11:53:44 UTC</td>\n",
       "      <td>-73.982524</td>\n",
       "      <td>40.751260</td>\n",
       "      <td>-73.979654</td>\n",
       "      <td>40.746139</td>\n",
       "      <td>1</td>\n",
       "    </tr>\n",
       "    <tr>\n",
       "      <th>3</th>\n",
       "      <td>2012-12-01 21:12:12.0000002</td>\n",
       "      <td>2012-12-01 21:12:12 UTC</td>\n",
       "      <td>-73.981160</td>\n",
       "      <td>40.767807</td>\n",
       "      <td>-73.990448</td>\n",
       "      <td>40.751635</td>\n",
       "      <td>1</td>\n",
       "    </tr>\n",
       "    <tr>\n",
       "      <th>4</th>\n",
       "      <td>2012-12-01 21:12:12.0000003</td>\n",
       "      <td>2012-12-01 21:12:12 UTC</td>\n",
       "      <td>-73.966046</td>\n",
       "      <td>40.789775</td>\n",
       "      <td>-73.988565</td>\n",
       "      <td>40.744427</td>\n",
       "      <td>1</td>\n",
       "    </tr>\n",
       "  </tbody>\n",
       "</table>\n",
       "</div>"
      ],
      "text/plain": [
       "                           key          pickup_datetime  pickup_longitude  \\\n",
       "0  2015-01-27 13:08:24.0000002  2015-01-27 13:08:24 UTC        -73.973320   \n",
       "1  2015-01-27 13:08:24.0000003  2015-01-27 13:08:24 UTC        -73.986862   \n",
       "2  2011-10-08 11:53:44.0000002  2011-10-08 11:53:44 UTC        -73.982524   \n",
       "3  2012-12-01 21:12:12.0000002  2012-12-01 21:12:12 UTC        -73.981160   \n",
       "4  2012-12-01 21:12:12.0000003  2012-12-01 21:12:12 UTC        -73.966046   \n",
       "\n",
       "   pickup_latitude  dropoff_longitude  dropoff_latitude  passenger_count  \n",
       "0        40.763805         -73.981430         40.743835                1  \n",
       "1        40.719383         -73.998886         40.739201                1  \n",
       "2        40.751260         -73.979654         40.746139                1  \n",
       "3        40.767807         -73.990448         40.751635                1  \n",
       "4        40.789775         -73.988565         40.744427                1  "
      ]
     },
     "execution_count": 82,
     "metadata": {},
     "output_type": "execute_result"
    }
   ],
   "source": [
    "test_raw.shape\n",
    "test_raw.head()"
   ]
  },
  {
   "cell_type": "code",
   "execution_count": 83,
   "metadata": {},
   "outputs": [
    {
     "data": {
      "text/html": [
       "<div>\n",
       "<style scoped>\n",
       "    .dataframe tbody tr th:only-of-type {\n",
       "        vertical-align: middle;\n",
       "    }\n",
       "\n",
       "    .dataframe tbody tr th {\n",
       "        vertical-align: top;\n",
       "    }\n",
       "\n",
       "    .dataframe thead th {\n",
       "        text-align: right;\n",
       "    }\n",
       "</style>\n",
       "<table border=\"1\" class=\"dataframe\">\n",
       "  <thead>\n",
       "    <tr style=\"text-align: right;\">\n",
       "      <th></th>\n",
       "      <th>key</th>\n",
       "      <th>pickup_datetime</th>\n",
       "      <th>pickup_longitude</th>\n",
       "      <th>pickup_latitude</th>\n",
       "      <th>dropoff_longitude</th>\n",
       "      <th>dropoff_latitude</th>\n",
       "      <th>passenger_count</th>\n",
       "      <th>abs_diff_longitude</th>\n",
       "      <th>abs_diff_latitude</th>\n",
       "      <th>distance</th>\n",
       "      <th>year</th>\n",
       "      <th>hour</th>\n",
       "      <th>day_of_week</th>\n",
       "      <th>month</th>\n",
       "      <th>week_number</th>\n",
       "      <th>season</th>\n",
       "      <th>late_night</th>\n",
       "    </tr>\n",
       "  </thead>\n",
       "  <tbody>\n",
       "    <tr>\n",
       "      <th>0</th>\n",
       "      <td>2015-01-27 13:08:24.0000002</td>\n",
       "      <td>2015-01-27 13:08:24 UTC</td>\n",
       "      <td>-73.973320</td>\n",
       "      <td>40.763805</td>\n",
       "      <td>-73.981430</td>\n",
       "      <td>40.743835</td>\n",
       "      <td>1</td>\n",
       "      <td>0.008110</td>\n",
       "      <td>0.019970</td>\n",
       "      <td>0.021554</td>\n",
       "      <td>2015</td>\n",
       "      <td>13</td>\n",
       "      <td>1</td>\n",
       "      <td>1</td>\n",
       "      <td>05</td>\n",
       "      <td>0</td>\n",
       "      <td>0</td>\n",
       "    </tr>\n",
       "    <tr>\n",
       "      <th>1</th>\n",
       "      <td>2015-01-27 13:08:24.0000003</td>\n",
       "      <td>2015-01-27 13:08:24 UTC</td>\n",
       "      <td>-73.986862</td>\n",
       "      <td>40.719383</td>\n",
       "      <td>-73.998886</td>\n",
       "      <td>40.739201</td>\n",
       "      <td>1</td>\n",
       "      <td>0.012024</td>\n",
       "      <td>0.019817</td>\n",
       "      <td>0.023180</td>\n",
       "      <td>2015</td>\n",
       "      <td>13</td>\n",
       "      <td>1</td>\n",
       "      <td>1</td>\n",
       "      <td>05</td>\n",
       "      <td>0</td>\n",
       "      <td>0</td>\n",
       "    </tr>\n",
       "    <tr>\n",
       "      <th>2</th>\n",
       "      <td>2011-10-08 11:53:44.0000002</td>\n",
       "      <td>2011-10-08 11:53:44 UTC</td>\n",
       "      <td>-73.982524</td>\n",
       "      <td>40.751260</td>\n",
       "      <td>-73.979654</td>\n",
       "      <td>40.746139</td>\n",
       "      <td>1</td>\n",
       "      <td>0.002870</td>\n",
       "      <td>0.005121</td>\n",
       "      <td>0.005870</td>\n",
       "      <td>2011</td>\n",
       "      <td>11</td>\n",
       "      <td>5</td>\n",
       "      <td>10</td>\n",
       "      <td>40</td>\n",
       "      <td>3</td>\n",
       "      <td>0</td>\n",
       "    </tr>\n",
       "    <tr>\n",
       "      <th>3</th>\n",
       "      <td>2012-12-01 21:12:12.0000002</td>\n",
       "      <td>2012-12-01 21:12:12 UTC</td>\n",
       "      <td>-73.981160</td>\n",
       "      <td>40.767807</td>\n",
       "      <td>-73.990448</td>\n",
       "      <td>40.751635</td>\n",
       "      <td>1</td>\n",
       "      <td>0.009288</td>\n",
       "      <td>0.016172</td>\n",
       "      <td>0.018649</td>\n",
       "      <td>2012</td>\n",
       "      <td>21</td>\n",
       "      <td>5</td>\n",
       "      <td>12</td>\n",
       "      <td>48</td>\n",
       "      <td>0</td>\n",
       "      <td>0</td>\n",
       "    </tr>\n",
       "    <tr>\n",
       "      <th>4</th>\n",
       "      <td>2012-12-01 21:12:12.0000003</td>\n",
       "      <td>2012-12-01 21:12:12 UTC</td>\n",
       "      <td>-73.966046</td>\n",
       "      <td>40.789775</td>\n",
       "      <td>-73.988565</td>\n",
       "      <td>40.744427</td>\n",
       "      <td>1</td>\n",
       "      <td>0.022519</td>\n",
       "      <td>0.045348</td>\n",
       "      <td>0.050631</td>\n",
       "      <td>2012</td>\n",
       "      <td>21</td>\n",
       "      <td>5</td>\n",
       "      <td>12</td>\n",
       "      <td>48</td>\n",
       "      <td>0</td>\n",
       "      <td>0</td>\n",
       "    </tr>\n",
       "  </tbody>\n",
       "</table>\n",
       "</div>"
      ],
      "text/plain": [
       "                           key          pickup_datetime  pickup_longitude  \\\n",
       "0  2015-01-27 13:08:24.0000002  2015-01-27 13:08:24 UTC        -73.973320   \n",
       "1  2015-01-27 13:08:24.0000003  2015-01-27 13:08:24 UTC        -73.986862   \n",
       "2  2011-10-08 11:53:44.0000002  2011-10-08 11:53:44 UTC        -73.982524   \n",
       "3  2012-12-01 21:12:12.0000002  2012-12-01 21:12:12 UTC        -73.981160   \n",
       "4  2012-12-01 21:12:12.0000003  2012-12-01 21:12:12 UTC        -73.966046   \n",
       "\n",
       "   pickup_latitude  dropoff_longitude  dropoff_latitude  passenger_count  \\\n",
       "0        40.763805         -73.981430         40.743835                1   \n",
       "1        40.719383         -73.998886         40.739201                1   \n",
       "2        40.751260         -73.979654         40.746139                1   \n",
       "3        40.767807         -73.990448         40.751635                1   \n",
       "4        40.789775         -73.988565         40.744427                1   \n",
       "\n",
       "   abs_diff_longitude  abs_diff_latitude  distance  year  hour  day_of_week  \\\n",
       "0            0.008110           0.019970  0.021554  2015    13            1   \n",
       "1            0.012024           0.019817  0.023180  2015    13            1   \n",
       "2            0.002870           0.005121  0.005870  2011    11            5   \n",
       "3            0.009288           0.016172  0.018649  2012    21            5   \n",
       "4            0.022519           0.045348  0.050631  2012    21            5   \n",
       "\n",
       "   month week_number  season  late_night  \n",
       "0      1          05       0           0  \n",
       "1      1          05       0           0  \n",
       "2     10          40       3           0  \n",
       "3     12          48       0           0  \n",
       "4     12          48       0           0  "
      ]
     },
     "execution_count": 83,
     "metadata": {},
     "output_type": "execute_result"
    }
   ],
   "source": [
    "add_travel_vector_features(test_raw)\n",
    "add_distance_feature(test_raw)\n",
    "add_datetime_features(test_raw)\n",
    "\n",
    "test_raw.head()"
   ]
  },
  {
   "cell_type": "code",
   "execution_count": 84,
   "metadata": {},
   "outputs": [
    {
     "data": {
      "text/html": [
       "<div>\n",
       "<style scoped>\n",
       "    .dataframe tbody tr th:only-of-type {\n",
       "        vertical-align: middle;\n",
       "    }\n",
       "\n",
       "    .dataframe tbody tr th {\n",
       "        vertical-align: top;\n",
       "    }\n",
       "\n",
       "    .dataframe thead th {\n",
       "        text-align: right;\n",
       "    }\n",
       "</style>\n",
       "<table border=\"1\" class=\"dataframe\">\n",
       "  <thead>\n",
       "    <tr style=\"text-align: right;\">\n",
       "      <th></th>\n",
       "      <th>pickup_longitude</th>\n",
       "      <th>pickup_latitude</th>\n",
       "      <th>dropoff_longitude</th>\n",
       "      <th>dropoff_latitude</th>\n",
       "      <th>passenger_count</th>\n",
       "      <th>abs_diff_longitude</th>\n",
       "      <th>abs_diff_latitude</th>\n",
       "      <th>distance</th>\n",
       "      <th>year</th>\n",
       "      <th>hour</th>\n",
       "      <th>day_of_week</th>\n",
       "      <th>month</th>\n",
       "      <th>week_number</th>\n",
       "      <th>season</th>\n",
       "      <th>late_night</th>\n",
       "    </tr>\n",
       "  </thead>\n",
       "  <tbody>\n",
       "    <tr>\n",
       "      <th>0</th>\n",
       "      <td>-73.973320</td>\n",
       "      <td>40.763805</td>\n",
       "      <td>-73.981430</td>\n",
       "      <td>40.743835</td>\n",
       "      <td>1</td>\n",
       "      <td>0.008110</td>\n",
       "      <td>0.019970</td>\n",
       "      <td>0.021554</td>\n",
       "      <td>2015</td>\n",
       "      <td>13</td>\n",
       "      <td>1</td>\n",
       "      <td>1</td>\n",
       "      <td>05</td>\n",
       "      <td>0</td>\n",
       "      <td>0</td>\n",
       "    </tr>\n",
       "    <tr>\n",
       "      <th>1</th>\n",
       "      <td>-73.986862</td>\n",
       "      <td>40.719383</td>\n",
       "      <td>-73.998886</td>\n",
       "      <td>40.739201</td>\n",
       "      <td>1</td>\n",
       "      <td>0.012024</td>\n",
       "      <td>0.019817</td>\n",
       "      <td>0.023180</td>\n",
       "      <td>2015</td>\n",
       "      <td>13</td>\n",
       "      <td>1</td>\n",
       "      <td>1</td>\n",
       "      <td>05</td>\n",
       "      <td>0</td>\n",
       "      <td>0</td>\n",
       "    </tr>\n",
       "    <tr>\n",
       "      <th>2</th>\n",
       "      <td>-73.982524</td>\n",
       "      <td>40.751260</td>\n",
       "      <td>-73.979654</td>\n",
       "      <td>40.746139</td>\n",
       "      <td>1</td>\n",
       "      <td>0.002870</td>\n",
       "      <td>0.005121</td>\n",
       "      <td>0.005870</td>\n",
       "      <td>2011</td>\n",
       "      <td>11</td>\n",
       "      <td>5</td>\n",
       "      <td>10</td>\n",
       "      <td>40</td>\n",
       "      <td>3</td>\n",
       "      <td>0</td>\n",
       "    </tr>\n",
       "    <tr>\n",
       "      <th>3</th>\n",
       "      <td>-73.981160</td>\n",
       "      <td>40.767807</td>\n",
       "      <td>-73.990448</td>\n",
       "      <td>40.751635</td>\n",
       "      <td>1</td>\n",
       "      <td>0.009288</td>\n",
       "      <td>0.016172</td>\n",
       "      <td>0.018649</td>\n",
       "      <td>2012</td>\n",
       "      <td>21</td>\n",
       "      <td>5</td>\n",
       "      <td>12</td>\n",
       "      <td>48</td>\n",
       "      <td>0</td>\n",
       "      <td>0</td>\n",
       "    </tr>\n",
       "    <tr>\n",
       "      <th>4</th>\n",
       "      <td>-73.966046</td>\n",
       "      <td>40.789775</td>\n",
       "      <td>-73.988565</td>\n",
       "      <td>40.744427</td>\n",
       "      <td>1</td>\n",
       "      <td>0.022519</td>\n",
       "      <td>0.045348</td>\n",
       "      <td>0.050631</td>\n",
       "      <td>2012</td>\n",
       "      <td>21</td>\n",
       "      <td>5</td>\n",
       "      <td>12</td>\n",
       "      <td>48</td>\n",
       "      <td>0</td>\n",
       "      <td>0</td>\n",
       "    </tr>\n",
       "  </tbody>\n",
       "</table>\n",
       "</div>"
      ],
      "text/plain": [
       "   pickup_longitude  pickup_latitude  dropoff_longitude  dropoff_latitude  \\\n",
       "0        -73.973320        40.763805         -73.981430         40.743835   \n",
       "1        -73.986862        40.719383         -73.998886         40.739201   \n",
       "2        -73.982524        40.751260         -73.979654         40.746139   \n",
       "3        -73.981160        40.767807         -73.990448         40.751635   \n",
       "4        -73.966046        40.789775         -73.988565         40.744427   \n",
       "\n",
       "   passenger_count  abs_diff_longitude  abs_diff_latitude  distance  year  \\\n",
       "0                1            0.008110           0.019970  0.021554  2015   \n",
       "1                1            0.012024           0.019817  0.023180  2015   \n",
       "2                1            0.002870           0.005121  0.005870  2011   \n",
       "3                1            0.009288           0.016172  0.018649  2012   \n",
       "4                1            0.022519           0.045348  0.050631  2012   \n",
       "\n",
       "   hour  day_of_week  month week_number  season  late_night  \n",
       "0    13            1      1          05       0           0  \n",
       "1    13            1      1          05       0           0  \n",
       "2    11            5     10          40       3           0  \n",
       "3    21            5     12          48       0           0  \n",
       "4    21            5     12          48       0           0  "
      ]
     },
     "execution_count": 84,
     "metadata": {},
     "output_type": "execute_result"
    }
   ],
   "source": [
    "X_test = test_raw.drop(['pickup_datetime', 'key'], axis=1)\n",
    "X_test.head()"
   ]
  },
  {
   "cell_type": "code",
   "execution_count": 85,
   "metadata": {},
   "outputs": [
    {
     "data": {
      "text/plain": [
       "(9914, 15)"
      ]
     },
     "execution_count": 85,
     "metadata": {},
     "output_type": "execute_result"
    }
   ],
   "source": [
    "X_test.shape"
   ]
  },
  {
   "cell_type": "code",
   "execution_count": 86,
   "metadata": {},
   "outputs": [],
   "source": [
    "y_pred = m.predict(X_test)"
   ]
  },
  {
   "cell_type": "code",
   "execution_count": 88,
   "metadata": {},
   "outputs": [
    {
     "name": "stdout",
     "output_type": "stream",
     "text": [
      "['EDA.ipynb', 'scrape_holidays.ipynb', 'holiday_feature.py', '.DS_Store', 'taxi_zones', 'features', 'submission.csv', 'RF_submission.csv', 'features.py', '__pycache__', 'RF_main.ipynb', 'public_holidays.csv', 'RF_submission6.csv', 'RF_interpretation.ipynb', 'nycTaxi_rf.ipynb', 'RF_submission4.csv', 'RF_submission5.csv', 'network_viz.ipynb', 'nyu_2451_36743', 'RF_submission2.csv', 'RF_submission3.csv', 'RF_features.csv', '.ipynb_checkpoints', 'RF_tuning.ipynb', 'data', 'tmp', 'direction_features2.py', 'direction_features.py', 'taxi_zones.csv']\n"
     ]
    }
   ],
   "source": [
    "# Write the predictions to a CSV file which we can submit to the competition.\n",
    "RF_submission2 = pd.DataFrame(\n",
    "    {'key': test_raw.key, 'fare_amount': y_pred},\n",
    "    columns = ['key', 'fare_amount'])\n",
    "RF_submission2.to_csv('RF_submission.csv', index = False)\n",
    "\n",
    "print(os.listdir('.'))"
   ]
  },
  {
   "cell_type": "code",
   "execution_count": null,
   "metadata": {},
   "outputs": [],
   "source": []
  }
 ],
 "metadata": {
  "kernelspec": {
   "display_name": "Python [conda env:anaconda3]",
   "language": "python",
   "name": "conda-env-anaconda3-py"
  },
  "language_info": {
   "codemirror_mode": {
    "name": "ipython",
    "version": 3
   },
   "file_extension": ".py",
   "mimetype": "text/x-python",
   "name": "python",
   "nbconvert_exporter": "python",
   "pygments_lexer": "ipython3",
   "version": "3.6.5"
  }
 },
 "nbformat": 4,
 "nbformat_minor": 2
}
